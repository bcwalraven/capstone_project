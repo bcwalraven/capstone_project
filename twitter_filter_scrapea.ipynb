{
 "cells": [
  {
   "cell_type": "code",
   "execution_count": null,
   "metadata": {},
   "outputs": [],
   "source": [
    "import twitter\n",
    "import pandas as pd\n",
    "import json\n",
    "import time\n",
    "import datetime as dt"
   ]
  },
  {
   "cell_type": "code",
   "execution_count": null,
   "metadata": {},
   "outputs": [],
   "source": [
    "end_time = dt.datetime(year = 2019, \n",
    "                       month = 2,\n",
    "                       day = 5,\n",
    "                       hour = 12,\n",
    "                       minute = 45)"
   ]
  },
  {
   "cell_type": "code",
   "execution_count": null,
   "metadata": {},
   "outputs": [],
   "source": [
    "api = twitter.Api(consumer_key = 'OuUR7clX8UZyGJWGKEQWLqWNc',\n",
    "                  consumer_secret = 'BbudJWsjfuRDJdKA16b5g7tfEBoYJV1hspW50CPQIpWLQFY5Ty', \n",
    "                  access_token_key = '719668880524906496-K0NuMv8xr8UeLUYlCwn7UGYYmnKczA9',\n",
    "                  access_token_secret = '7nYCRD548MgTawdyk9MR3jVDmQUto8xcEtkwKxTBLJHzo')\n",
    "\n",
    "raw_query='q=maduro%2C%20OR%20guaido&src=typd'"
   ]
  },
  {
   "cell_type": "code",
   "execution_count": null,
   "metadata": {},
   "outputs": [],
   "source": [
    "def scrape_twitter(raw_query, end_time):    \n",
    "    global scrapes\n",
    "    \n",
    "    while dt.datetime.now() < end_time:\n",
    "        dct_list = []\n",
    "        tweets = api.GetSearch(raw_query=raw_query)\n",
    "        \n",
    "        for _ in range(len(tweets)):\n",
    "            tweet = tweets.pop()\n",
    "            tweet = tweet.AsDict()\n",
    "            dct_list.append(tweet)\n",
    "            \n",
    "        posts = []\n",
    "        for dct in dct_list:\n",
    "            post_dict = {}\n",
    "            post_dict['tweet_id'] = dct['id_str']\n",
    "            post_dict['date'] = dct['created_at']\n",
    "            post_dict['text'] = dct['text']\n",
    "            post_dict['author_id'] = dct['user']['id_str']\n",
    "            post_dict['screen_name'] = dct['user']['screen_name']\n",
    "            post_dict['lang'] = dct['lang']\n",
    "            try:\n",
    "                post_dict['retweet_count'] = dct['retweet_count']\n",
    "            except:\n",
    "                post_dict['retweet_count'] = 0\n",
    "            posts.append(post_dict)\n",
    "        \n",
    "        scrapes = pd.concat([scrapes, pd.DataFrame(posts)], axis=0).reset_index(drop=True)\n",
    "        scrapes.to_csv('./scrapes/2019_2_2-2019_2_8scrapes.csv')\n",
    "        \n",
    "        time.sleep(60)"
   ]
  },
  {
   "cell_type": "code",
   "execution_count": null,
   "metadata": {},
   "outputs": [],
   "source": [
    "tweets = api.GetSearch(raw_query=raw_query)"
   ]
  },
  {
   "cell_type": "code",
   "execution_count": null,
   "metadata": {},
   "outputs": [],
   "source": [
    "dct_list = []\n",
    "\n",
    "for _ in range(len(tweets)):\n",
    "    tweet = tweets.pop()\n",
    "    tweet = tweet.AsDict()\n",
    "    dct_list.append(tweet)"
   ]
  },
  {
   "cell_type": "code",
   "execution_count": null,
   "metadata": {},
   "outputs": [],
   "source": [
    "posts = []\n",
    "\n",
    "for dct in dct_list:\n",
    "    post_dict = {}\n",
    "    post_dict['tweet_id'] = dct['id_str']\n",
    "    post_dict['date'] = dct['created_at']\n",
    "    post_dict['text'] = dct['text']\n",
    "    post_dict['author_id'] = dct['user']['id_str']\n",
    "    post_dict['screen_name'] = dct['user']['screen_name']\n",
    "    post_dict['lang'] = dct['lang']\n",
    "    try:\n",
    "        post_dict['retweet_count'] = dct['retweet_count']\n",
    "    except:\n",
    "        post_dict['retweet_count'] = 0\n",
    "        \n",
    "    posts.append(post_dict)\n",
    "    \n",
    "scrapes = pd.DataFrame(posts)"
   ]
  },
  {
   "cell_type": "code",
   "execution_count": null,
   "metadata": {},
   "outputs": [],
   "source": [
    "time.sleep(60)"
   ]
  },
  {
   "cell_type": "code",
   "execution_count": null,
   "metadata": {
    "scrolled": true
   },
   "outputs": [],
   "source": [
    "scrape_twitter(raw_query, end_time)"
   ]
  }
 ],
 "metadata": {
  "kernelspec": {
   "display_name": "Python 3",
   "language": "python",
   "name": "python3"
  },
  "language_info": {
   "codemirror_mode": {
    "name": "ipython",
    "version": 3
   },
   "file_extension": ".py",
   "mimetype": "text/x-python",
   "name": "python",
   "nbconvert_exporter": "python",
   "pygments_lexer": "ipython3",
   "version": "3.6.7"
  }
 },
 "nbformat": 4,
 "nbformat_minor": 2
}
