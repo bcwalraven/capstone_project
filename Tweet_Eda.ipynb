{
 "cells": [
  {
   "cell_type": "code",
   "execution_count": 1,
   "metadata": {},
   "outputs": [],
   "source": [
    "import numpy as np\n",
    "import pandas as pd\n",
    "import datetime as dt\n",
    "import matplotlib.pyplot as plt\n",
    "plt.rcParams.update({'font.size': 13})\n",
    "\n",
    "from bs4 import BeautifulSoup\n",
    "import regex as re\n",
    "import nltk\n",
    "\n",
    "from gensim.models.word2vec import Word2Vec\n",
    "from sklearn.linear_model import LogisticRegression\n",
    "from sklearn.model_selection import train_test_split\n",
    "from sklearn.metrics import accuracy_score"
   ]
  },
  {
   "cell_type": "code",
   "execution_count": 2,
   "metadata": {},
   "outputs": [],
   "source": [
    "import warnings\n",
    "warnings.filterwarnings(\"ignore\")"
   ]
  },
  {
   "cell_type": "markdown",
   "metadata": {},
   "source": [
    "# EDA"
   ]
  },
  {
   "cell_type": "code",
   "execution_count": 3,
   "metadata": {},
   "outputs": [],
   "source": [
    "tweets = pd.read_csv('./datasets/tweets_with_lang.csv')\n",
    "tweets.drop('Unnamed: 0', inplace=True, axis=1)"
   ]
  },
  {
   "cell_type": "code",
   "execution_count": 4,
   "metadata": {},
   "outputs": [],
   "source": [
    "users = pd.read_csv('./datasets/NBC/users.csv')"
   ]
  },
  {
   "cell_type": "code",
   "execution_count": 5,
   "metadata": {},
   "outputs": [
    {
     "data": {
      "text/plain": [
       "(203133, 18)"
      ]
     },
     "execution_count": 5,
     "metadata": {},
     "output_type": "execute_result"
    }
   ],
   "source": [
    "tweets.shape"
   ]
  },
  {
   "cell_type": "code",
   "execution_count": 6,
   "metadata": {},
   "outputs": [
    {
     "data": {
      "text/plain": [
       "user_id                  float64\n",
       "user_key                  object\n",
       "created_at                object\n",
       "created_str               object\n",
       "retweet_count             object\n",
       "retweeted                 object\n",
       "favorite_count           float64\n",
       "text                      object\n",
       "tweet_id                  object\n",
       "source                    object\n",
       "hashtags                  object\n",
       "expanded_urls             object\n",
       "posted                    object\n",
       "mentions                  object\n",
       "retweeted_status_id      float64\n",
       "in_reply_to_status_id    float64\n",
       "cleaned_text              object\n",
       "lang                      object\n",
       "dtype: object"
      ]
     },
     "execution_count": 6,
     "metadata": {},
     "output_type": "execute_result"
    }
   ],
   "source": [
    "tweets.dtypes"
   ]
  },
  {
   "cell_type": "code",
   "execution_count": 7,
   "metadata": {},
   "outputs": [
    {
     "data": {
      "text/html": [
       "<div>\n",
       "<style scoped>\n",
       "    .dataframe tbody tr th:only-of-type {\n",
       "        vertical-align: middle;\n",
       "    }\n",
       "\n",
       "    .dataframe tbody tr th {\n",
       "        vertical-align: top;\n",
       "    }\n",
       "\n",
       "    .dataframe thead th {\n",
       "        text-align: right;\n",
       "    }\n",
       "</style>\n",
       "<table border=\"1\" class=\"dataframe\">\n",
       "  <thead>\n",
       "    <tr style=\"text-align: right;\">\n",
       "      <th></th>\n",
       "      <th>user_id</th>\n",
       "      <th>user_key</th>\n",
       "      <th>created_at</th>\n",
       "      <th>created_str</th>\n",
       "      <th>retweet_count</th>\n",
       "      <th>retweeted</th>\n",
       "      <th>favorite_count</th>\n",
       "      <th>text</th>\n",
       "      <th>tweet_id</th>\n",
       "      <th>source</th>\n",
       "      <th>hashtags</th>\n",
       "      <th>expanded_urls</th>\n",
       "      <th>posted</th>\n",
       "      <th>mentions</th>\n",
       "      <th>retweeted_status_id</th>\n",
       "      <th>in_reply_to_status_id</th>\n",
       "      <th>cleaned_text</th>\n",
       "      <th>lang</th>\n",
       "    </tr>\n",
       "  </thead>\n",
       "  <tbody>\n",
       "    <tr>\n",
       "      <th>0</th>\n",
       "      <td>2.532612e+09</td>\n",
       "      <td>kathiemrr</td>\n",
       "      <td>1488207240000.0</td>\n",
       "      <td>2017-02-27 14:54:00</td>\n",
       "      <td>NaN</td>\n",
       "      <td>NaN</td>\n",
       "      <td>NaN</td>\n",
       "      <td>#ThingsDoneByMistake kissing auntie in the lips</td>\n",
       "      <td>8.362278918976512e+17</td>\n",
       "      <td>NaN</td>\n",
       "      <td>[\"ThingsDoneByMistake\"]</td>\n",
       "      <td>[]</td>\n",
       "      <td>POSTED</td>\n",
       "      <td>[]</td>\n",
       "      <td>NaN</td>\n",
       "      <td>NaN</td>\n",
       "      <td>kissing auntie in the lips</td>\n",
       "      <td>en</td>\n",
       "    </tr>\n",
       "    <tr>\n",
       "      <th>1</th>\n",
       "      <td>2.531160e+09</td>\n",
       "      <td>traceyhappymom</td>\n",
       "      <td>1471272620000.0</td>\n",
       "      <td>2016-08-15 14:50:20</td>\n",
       "      <td>NaN</td>\n",
       "      <td>NaN</td>\n",
       "      <td>NaN</td>\n",
       "      <td>RT @mc_derpin: #TheOlderWeGet the more pessimi...</td>\n",
       "      <td>7.651989482398106e+17</td>\n",
       "      <td>NaN</td>\n",
       "      <td>[\"TheOlderWeGet\"]</td>\n",
       "      <td>[]</td>\n",
       "      <td>POSTED</td>\n",
       "      <td>[]</td>\n",
       "      <td>NaN</td>\n",
       "      <td>NaN</td>\n",
       "      <td>rt the more pessimistic we are</td>\n",
       "      <td>en</td>\n",
       "    </tr>\n",
       "    <tr>\n",
       "      <th>2</th>\n",
       "      <td>NaN</td>\n",
       "      <td>evewebster373</td>\n",
       "      <td>1435701369000.0</td>\n",
       "      <td>2015-06-30 21:56:09</td>\n",
       "      <td>NaN</td>\n",
       "      <td>NaN</td>\n",
       "      <td>NaN</td>\n",
       "      <td>RT @dmataconis: Ready To Feel Like A Failure? ...</td>\n",
       "      <td>6.160023065727468e+17</td>\n",
       "      <td>NaN</td>\n",
       "      <td>[]</td>\n",
       "      <td>[]</td>\n",
       "      <td>POSTED</td>\n",
       "      <td>[]</td>\n",
       "      <td>NaN</td>\n",
       "      <td>NaN</td>\n",
       "      <td>rt ready to feel like a failure joan of arc wa...</td>\n",
       "      <td>en</td>\n",
       "    </tr>\n",
       "    <tr>\n",
       "      <th>3</th>\n",
       "      <td>4.840552e+09</td>\n",
       "      <td>blacktolive</td>\n",
       "      <td>1474013088000.0</td>\n",
       "      <td>2016-09-16 08:04:48</td>\n",
       "      <td>18.0</td>\n",
       "      <td>False</td>\n",
       "      <td>17.0</td>\n",
       "      <td>Amen! #blacklivesmatter https://t.co/wGffaOqgzl</td>\n",
       "      <td>7.766933029261476e+17</td>\n",
       "      <td>&lt;a href=\"http://twitter.com\" rel=\"nofollow\"&gt;Tw...</td>\n",
       "      <td>[\"Blacklivesmatter\"]</td>\n",
       "      <td>[]</td>\n",
       "      <td>POSTED</td>\n",
       "      <td>[]</td>\n",
       "      <td>NaN</td>\n",
       "      <td>NaN</td>\n",
       "      <td>amen</td>\n",
       "      <td>unknown</td>\n",
       "    </tr>\n",
       "    <tr>\n",
       "      <th>4</th>\n",
       "      <td>1.694026e+09</td>\n",
       "      <td>jacquelinisbest</td>\n",
       "      <td>1474227985000.0</td>\n",
       "      <td>2016-09-18 19:46:25</td>\n",
       "      <td>0.0</td>\n",
       "      <td>False</td>\n",
       "      <td>0.0</td>\n",
       "      <td>RT @NahBabyNah: Twitchy: Chuck Todd caught out...</td>\n",
       "      <td>7.775946478750597e+17</td>\n",
       "      <td>&lt;a href=\"http://twitter.com\" rel=\"nofollow\"&gt;Tw...</td>\n",
       "      <td>[\"WakeUpAmerica\"]</td>\n",
       "      <td>[\"http://ln.is/twitchy.com/loriz-31/3yafU\"]</td>\n",
       "      <td>POSTED</td>\n",
       "      <td>[\"nahbabynah\"]</td>\n",
       "      <td>7.775915e+17</td>\n",
       "      <td>NaN</td>\n",
       "      <td>rt twitchy chuck todd caught out there shillin...</td>\n",
       "      <td>en</td>\n",
       "    </tr>\n",
       "  </tbody>\n",
       "</table>\n",
       "</div>"
      ],
      "text/plain": [
       "        user_id         user_key       created_at          created_str  \\\n",
       "0  2.532612e+09        kathiemrr  1488207240000.0  2017-02-27 14:54:00   \n",
       "1  2.531160e+09   traceyhappymom  1471272620000.0  2016-08-15 14:50:20   \n",
       "2           NaN    evewebster373  1435701369000.0  2015-06-30 21:56:09   \n",
       "3  4.840552e+09      blacktolive  1474013088000.0  2016-09-16 08:04:48   \n",
       "4  1.694026e+09  jacquelinisbest  1474227985000.0  2016-09-18 19:46:25   \n",
       "\n",
       "  retweet_count retweeted  favorite_count  \\\n",
       "0           NaN       NaN             NaN   \n",
       "1           NaN       NaN             NaN   \n",
       "2           NaN       NaN             NaN   \n",
       "3          18.0     False            17.0   \n",
       "4           0.0     False             0.0   \n",
       "\n",
       "                                                text               tweet_id  \\\n",
       "0    #ThingsDoneByMistake kissing auntie in the lips  8.362278918976512e+17   \n",
       "1  RT @mc_derpin: #TheOlderWeGet the more pessimi...  7.651989482398106e+17   \n",
       "2  RT @dmataconis: Ready To Feel Like A Failure? ...  6.160023065727468e+17   \n",
       "3    Amen! #blacklivesmatter https://t.co/wGffaOqgzl  7.766933029261476e+17   \n",
       "4  RT @NahBabyNah: Twitchy: Chuck Todd caught out...  7.775946478750597e+17   \n",
       "\n",
       "                                              source                 hashtags  \\\n",
       "0                                                NaN  [\"ThingsDoneByMistake\"]   \n",
       "1                                                NaN        [\"TheOlderWeGet\"]   \n",
       "2                                                NaN                       []   \n",
       "3  <a href=\"http://twitter.com\" rel=\"nofollow\">Tw...     [\"Blacklivesmatter\"]   \n",
       "4  <a href=\"http://twitter.com\" rel=\"nofollow\">Tw...        [\"WakeUpAmerica\"]   \n",
       "\n",
       "                                 expanded_urls  posted        mentions  \\\n",
       "0                                           []  POSTED              []   \n",
       "1                                           []  POSTED              []   \n",
       "2                                           []  POSTED              []   \n",
       "3                                           []  POSTED              []   \n",
       "4  [\"http://ln.is/twitchy.com/loriz-31/3yafU\"]  POSTED  [\"nahbabynah\"]   \n",
       "\n",
       "   retweeted_status_id  in_reply_to_status_id  \\\n",
       "0                  NaN                    NaN   \n",
       "1                  NaN                    NaN   \n",
       "2                  NaN                    NaN   \n",
       "3                  NaN                    NaN   \n",
       "4         7.775915e+17                    NaN   \n",
       "\n",
       "                                        cleaned_text     lang  \n",
       "0                         kissing auntie in the lips       en  \n",
       "1                     rt the more pessimistic we are       en  \n",
       "2  rt ready to feel like a failure joan of arc wa...       en  \n",
       "3                                              amen   unknown  \n",
       "4  rt twitchy chuck todd caught out there shillin...       en  "
      ]
     },
     "execution_count": 7,
     "metadata": {},
     "output_type": "execute_result"
    }
   ],
   "source": [
    "tweets.head()"
   ]
  },
  {
   "cell_type": "code",
   "execution_count": 8,
   "metadata": {
    "scrolled": true
   },
   "outputs": [
    {
     "data": {
      "text/plain": [
       "0"
      ]
     },
     "execution_count": 8,
     "metadata": {},
     "output_type": "execute_result"
    }
   ],
   "source": [
    "# dropping duclicated tweets\n",
    "tweets.duplicated(['tweet_id', 'user_key', 'created_at']).sum()"
   ]
  },
  {
   "cell_type": "code",
   "execution_count": 9,
   "metadata": {},
   "outputs": [
    {
     "data": {
      "text/plain": [
       "7"
      ]
     },
     "execution_count": 9,
     "metadata": {},
     "output_type": "execute_result"
    }
   ],
   "source": [
    "tweets.text.isnull().sum()"
   ]
  },
  {
   "cell_type": "code",
   "execution_count": 10,
   "metadata": {},
   "outputs": [],
   "source": [
    "# dropping duplicates and tweets with no text\n",
    "tweets.drop_duplicates(['tweet_id', 'user_key', 'created_at'], inplace=True)\n",
    "tweets.dropna(axis = 0, subset=['cleaned_text'], inplace=True)"
   ]
  },
  {
   "cell_type": "code",
   "execution_count": 11,
   "metadata": {},
   "outputs": [
    {
     "data": {
      "text/plain": [
       "(202105, 18)"
      ]
     },
     "execution_count": 11,
     "metadata": {},
     "output_type": "execute_result"
    }
   ],
   "source": [
    "tweets.shape"
   ]
  },
  {
   "cell_type": "markdown",
   "metadata": {},
   "source": [
    "**Adding a feature for high volume users**"
   ]
  },
  {
   "cell_type": "code",
   "execution_count": 12,
   "metadata": {},
   "outputs": [
    {
     "data": {
      "image/png": "[encoded data removed]",
      "text/plain": [
       "<Figure size 576x360 with 1 Axes>"
      ]
     },
     "metadata": {},
     "output_type": "display_data"
    }
   ],
   "source": [
    "plt.figure(figsize=(8,5))\n",
    "plt.plot(tweets.user_key.value_counts())\n",
    "plt.plot((0, 450), (1250, 1250))\n",
    "cur_axes = plt.gca()\n",
    "cur_axes.axes.get_xaxis().set_visible(False)"
   ]
  },
  {
   "cell_type": "code",
   "execution_count": 13,
   "metadata": {},
   "outputs": [
    {
     "name": "stdout",
     "output_type": "stream",
     "text": [
      "54\n"
     ]
    }
   ],
   "source": [
    "high_volume_list = []\n",
    "\n",
    "for user in set(tweets.user_key):\n",
    "    if (tweets.user_key == user).sum() >= 1250:\n",
    "        high_volume_list.append(user)\n",
    "        \n",
    "print(len(high_volume_list))        \n",
    "tweets['high_volume_user'] = tweets.user_key.map(lambda user: True if user in high_volume_list else False)"
   ]
  },
  {
   "cell_type": "markdown",
   "metadata": {},
   "source": [
    "**Adding a Column for Retweets**"
   ]
  },
  {
   "cell_type": "code",
   "execution_count": 14,
   "metadata": {},
   "outputs": [],
   "source": [
    "tweets['retweet'] = tweets.text.map(lambda x: True if x.split()[0] == 'RT' else False)"
   ]
  },
  {
   "cell_type": "code",
   "execution_count": 15,
   "metadata": {},
   "outputs": [
    {
     "data": {
      "text/plain": [
       "147249"
      ]
     },
     "execution_count": 15,
     "metadata": {},
     "output_type": "execute_result"
    }
   ],
   "source": [
    "# almost 75% of the tweets are retweets\n",
    "tweets.retweet.sum()"
   ]
  },
  {
   "cell_type": "markdown",
   "metadata": {},
   "source": [
    "**Cleaning Up Dataframe**"
   ]
  },
  {
   "cell_type": "code",
   "execution_count": 16,
   "metadata": {},
   "outputs": [],
   "source": [
    "# convert sring date to datetime\n",
    "tweets['date'] = tweets.created_str.map(lambda date: dt.datetime.strptime(date, '%Y-%m-%d %H:%M:%S'))\n",
    "# set date column as index\n",
    "tweets.set_index('date', inplace=True)\n",
    "# reorder index by date\n",
    "tweets.sort_index(inplace=True)"
   ]
  },
  {
   "cell_type": "code",
   "execution_count": 17,
   "metadata": {},
   "outputs": [],
   "source": [
    "# keeping necessary columns\n",
    "tweets = tweets[['user_key', 'text', 'cleaned_text', 'hashtags', 'lang', 'high_volume_user', 'retweet']]"
   ]
  },
  {
   "cell_type": "code",
   "execution_count": 18,
   "metadata": {
    "scrolled": true
   },
   "outputs": [
    {
     "data": {
      "text/html": [
       "<div>\n",
       "<style scoped>\n",
       "    .dataframe tbody tr th:only-of-type {\n",
       "        vertical-align: middle;\n",
       "    }\n",
       "\n",
       "    .dataframe tbody tr th {\n",
       "        vertical-align: top;\n",
       "    }\n",
       "\n",
       "    .dataframe thead th {\n",
       "        text-align: right;\n",
       "    }\n",
       "</style>\n",
       "<table border=\"1\" class=\"dataframe\">\n",
       "  <thead>\n",
       "    <tr style=\"text-align: right;\">\n",
       "      <th></th>\n",
       "      <th>user_key</th>\n",
       "      <th>text</th>\n",
       "      <th>cleaned_text</th>\n",
       "      <th>hashtags</th>\n",
       "      <th>lang</th>\n",
       "      <th>high_volume_user</th>\n",
       "      <th>retweet</th>\n",
       "    </tr>\n",
       "    <tr>\n",
       "      <th>date</th>\n",
       "      <th></th>\n",
       "      <th></th>\n",
       "      <th></th>\n",
       "      <th></th>\n",
       "      <th></th>\n",
       "      <th></th>\n",
       "      <th></th>\n",
       "    </tr>\n",
       "  </thead>\n",
       "  <tbody>\n",
       "    <tr>\n",
       "      <th>2014-07-14 18:04:55</th>\n",
       "      <td>evagreen69</td>\n",
       "      <td>I am in Love with LOVE!</td>\n",
       "      <td>i am in love with love</td>\n",
       "      <td>[]</td>\n",
       "      <td>en</td>\n",
       "      <td>True</td>\n",
       "      <td>False</td>\n",
       "    </tr>\n",
       "    <tr>\n",
       "      <th>2014-07-17 20:27:52</th>\n",
       "      <td>austinlovesbeer</td>\n",
       "      <td>Why give second chances when there are people ...</td>\n",
       "      <td>why give second chances when there are people ...</td>\n",
       "      <td>[]</td>\n",
       "      <td>en</td>\n",
       "      <td>False</td>\n",
       "      <td>False</td>\n",
       "    </tr>\n",
       "    <tr>\n",
       "      <th>2014-07-20 06:30:01</th>\n",
       "      <td>heyits_toby</td>\n",
       "      <td>True tolerance does not consist in saying, \"Yo...</td>\n",
       "      <td>true tolerance does not consist in saying you ...</td>\n",
       "      <td>[]</td>\n",
       "      <td>en</td>\n",
       "      <td>True</td>\n",
       "      <td>False</td>\n",
       "    </tr>\n",
       "    <tr>\n",
       "      <th>2014-07-20 07:02:33</th>\n",
       "      <td>heyits_toby</td>\n",
       "      <td>oh and Ur in a position to judge me because? t...</td>\n",
       "      <td>oh and ur in a position to judge me because tw...</td>\n",
       "      <td>[]</td>\n",
       "      <td>en</td>\n",
       "      <td>True</td>\n",
       "      <td>False</td>\n",
       "    </tr>\n",
       "    <tr>\n",
       "      <th>2014-07-22 08:46:37</th>\n",
       "      <td>austinlovesbeer</td>\n",
       "      <td>I'm here and you're there. There doesn't know ...</td>\n",
       "      <td>i m here and you re there there doesn t know h...</td>\n",
       "      <td>[]</td>\n",
       "      <td>en</td>\n",
       "      <td>False</td>\n",
       "      <td>False</td>\n",
       "    </tr>\n",
       "  </tbody>\n",
       "</table>\n",
       "</div>"
      ],
      "text/plain": [
       "                            user_key  \\\n",
       "date                                   \n",
       "2014-07-14 18:04:55       evagreen69   \n",
       "2014-07-17 20:27:52  austinlovesbeer   \n",
       "2014-07-20 06:30:01      heyits_toby   \n",
       "2014-07-20 07:02:33      heyits_toby   \n",
       "2014-07-22 08:46:37  austinlovesbeer   \n",
       "\n",
       "                                                                  text  \\\n",
       "date                                                                     \n",
       "2014-07-14 18:04:55                            I am in Love with LOVE!   \n",
       "2014-07-17 20:27:52  Why give second chances when there are people ...   \n",
       "2014-07-20 06:30:01  True tolerance does not consist in saying, \"Yo...   \n",
       "2014-07-20 07:02:33  oh and Ur in a position to judge me because? t...   \n",
       "2014-07-22 08:46:37  I'm here and you're there. There doesn't know ...   \n",
       "\n",
       "                                                          cleaned_text  \\\n",
       "date                                                                     \n",
       "2014-07-14 18:04:55                            i am in love with love    \n",
       "2014-07-17 20:27:52  why give second chances when there are people ...   \n",
       "2014-07-20 06:30:01  true tolerance does not consist in saying you ...   \n",
       "2014-07-20 07:02:33  oh and ur in a position to judge me because tw...   \n",
       "2014-07-22 08:46:37  i m here and you re there there doesn t know h...   \n",
       "\n",
       "                    hashtags lang  high_volume_user  retweet  \n",
       "date                                                          \n",
       "2014-07-14 18:04:55       []   en              True    False  \n",
       "2014-07-17 20:27:52       []   en             False    False  \n",
       "2014-07-20 06:30:01       []   en              True    False  \n",
       "2014-07-20 07:02:33       []   en              True    False  \n",
       "2014-07-22 08:46:37       []   en             False    False  "
      ]
     },
     "execution_count": 18,
     "metadata": {},
     "output_type": "execute_result"
    }
   ],
   "source": [
    "tweets.head()"
   ]
  },
  {
   "cell_type": "code",
   "execution_count": 19,
   "metadata": {},
   "outputs": [],
   "source": [
    "# defining masks for further analysis\n",
    "english_mask = tweets.lang == 'en'\n",
    "high_volume_mask = tweets.high_volume_user\n",
    "retweet_mask = tweets.retweet"
   ]
  },
  {
   "cell_type": "code",
   "execution_count": 20,
   "metadata": {},
   "outputs": [],
   "source": [
    "tweets.to_csv('./datasets/cleaned_tweets.csv')"
   ]
  },
  {
   "cell_type": "markdown",
   "metadata": {},
   "source": [
    "# Time Series"
   ]
  },
  {
   "cell_type": "markdown",
   "metadata": {},
   "source": [
    "Since we are looking at posting frequency, I will look at all posts from high volume users, regardless of whether their language or whether they are in English. In order to best utilize python's datetime features the created date column will be converted to string and set as the index."
   ]
  },
  {
   "cell_type": "code",
   "execution_count": 21,
   "metadata": {},
   "outputs": [],
   "source": [
    "from statsmodels.graphics.tsaplots import plot_acf, plot_pacf"
   ]
  },
  {
   "cell_type": "code",
   "execution_count": 22,
   "metadata": {},
   "outputs": [],
   "source": [
    "high_volume_tweets = tweets.loc[high_volume_mask]"
   ]
  },
  {
   "cell_type": "code",
   "execution_count": 23,
   "metadata": {},
   "outputs": [],
   "source": [
    "# adding count and cumulative_count columns for frequency analysis\n",
    "high_volume_tweets['count'] = 1\n",
    "high_volume_tweets['cumulative_count'] = range(len(high_volume_tweets))"
   ]
  },
  {
   "cell_type": "code",
   "execution_count": 24,
   "metadata": {},
   "outputs": [],
   "source": [
    "# specifying specific time series dates\n",
    "rnc = dt.datetime.strptime('2016-07-18', '%Y-%m-%d')\n",
    "elec = dt.datetime.strptime('2016-11-07', '%Y-%m-%d')\n",
    "sc = dt.datetime.strptime('2017-05-17', '%Y-%m-%d')"
   ]
  },
  {
   "cell_type": "code",
   "execution_count": 25,
   "metadata": {},
   "outputs": [
    {
     "data": {
      "image/png": "[encoded data removed]",
      "text/plain": [
       "<Figure size 720x432 with 1 Axes>"
      ]
     },
     "metadata": {},
     "output_type": "display_data"
    }
   ],
   "source": [
    "# plotting cumulative tweets over time\n",
    "plt.figure(figsize=(10, 6))\n",
    "plt.plot(high_volume_tweets.cumulative_count)\n",
    "plt.plot((rnc, rnc), (0, 160000), label='RNC 2016')\n",
    "plt.plot((elec, elec), (0, 160000), label='Election')\n",
    "plt.plot((sc, sc), (0, 160000), label='Muller Appointment')\n",
    "plt.title('Cumulative Tweets From High-Volume Accounts')\n",
    "plt.xlabel('Date')\n",
    "plt.xticks([dt.datetime(2015, 1, 1), dt.datetime(2016, 1, 1), dt.datetime(2017, 1, 1)])\n",
    "plt.yticks([0, 50000, 100000, 150000])\n",
    "plt.legend();"
   ]
  },
  {
   "cell_type": "code",
   "execution_count": 26,
   "metadata": {},
   "outputs": [
    {
     "data": {
      "image/png": "[encoded data removed]",
      "text/plain": [
       "<Figure size 720x432 with 1 Axes>"
      ]
     },
     "metadata": {},
     "output_type": "display_data"
    }
   ],
   "source": [
    "# plotting tweeting frequency averged by month\n",
    "plt.figure(figsize=(10, 6))\n",
    "plt.plot(high_volume_tweets.resample('W')['count'].sum())\n",
    "plt.plot((rnc, rnc), (0, 8000))\n",
    "plt.plot((elec, elec), (0, 8000))\n",
    "plt.plot((sc, sc), (0, 8000));"
   ]
  },
  {
   "cell_type": "code",
   "execution_count": 27,
   "metadata": {},
   "outputs": [],
   "source": [
    "ten_gop_frequency = high_volume_tweets.loc[high_volume_tweets.user_key == 'ten_gop'].resample('D')['count'].sum()"
   ]
  },
  {
   "cell_type": "code",
   "execution_count": 28,
   "metadata": {},
   "outputs": [
    {
     "data": {
      "image/png": "[encoded data removed]",
      "text/plain": [
       "<Figure size 720x432 with 1 Axes>"
      ]
     },
     "metadata": {},
     "output_type": "display_data"
    }
   ],
   "source": [
    "plt.figure(figsize=(10, 6))\n",
    "plt.plot(ten_gop_frequency);"
   ]
  },
  {
   "cell_type": "code",
   "execution_count": 29,
   "metadata": {},
   "outputs": [
    {
     "data": {
      "image/png": "[encoded data removed]",
      "text/plain": [
       "<Figure size 720x432 with 1 Axes>"
      ]
     },
     "metadata": {},
     "output_type": "display_data"
    }
   ],
   "source": [
    "fig, ax = plt.subplots(figsize=(10,6))\n",
    "plot_acf(ten_gop_frequency, lags=30, ax=ax);"
   ]
  },
  {
   "cell_type": "code",
   "execution_count": 30,
   "metadata": {},
   "outputs": [
    {
     "data": {
      "image/png": "[encoded data removed]",
      "text/plain": [
       "<Figure size 720x288 with 1 Axes>"
      ]
     },
     "metadata": {},
     "output_type": "display_data"
    }
   ],
   "source": [
    "fig, ax = plt.subplots(figsize=(10,4))\n",
    "plot_pacf(ten_gop_frequency, lags=30, ax=ax);"
   ]
  },
  {
   "cell_type": "code",
   "execution_count": 31,
   "metadata": {},
   "outputs": [],
   "source": [
    "leroy_frequency = high_volume_tweets.loc[high_volume_tweets.user_key == 'leroylovesusa'].resample('D')['count'].sum()"
   ]
  },
  {
   "cell_type": "code",
   "execution_count": 32,
   "metadata": {},
   "outputs": [
    {
     "data": {
      "image/png": "[encoded data removed]",
      "text/plain": [
       "<Figure size 720x288 with 1 Axes>"
      ]
     },
     "metadata": {},
     "output_type": "display_data"
    }
   ],
   "source": [
    "fig, ax = plt.subplots(figsize=(10,4))\n",
    "plot_acf(leroy_frequency, lags=30, ax=ax);"
   ]
  },
  {
   "cell_type": "code",
   "execution_count": 33,
   "metadata": {
    "scrolled": true
   },
   "outputs": [
    {
     "data": {
      "image/png": "[encoded data removed]",
      "text/plain": [
       "<Figure size 720x288 with 1 Axes>"
      ]
     },
     "metadata": {},
     "output_type": "display_data"
    }
   ],
   "source": [
    "fig, ax = plt.subplots(figsize=(10,4))\n",
    "plot_pacf(ten_gop_frequency, lags=30, ax=ax);"
   ]
  },
  {
   "cell_type": "code",
   "execution_count": 34,
   "metadata": {},
   "outputs": [
    {
     "data": {
      "text/plain": [
       "['cassieweltch',\n",
       " 'notritahart',\n",
       " 'giselleevns',\n",
       " 'patriotraphael',\n",
       " 'rh0lbr00k',\n",
       " 'garrettsimpson_',\n",
       " 'daileyjadon',\n",
       " 'finley1589',\n",
       " 'willisbonnerr',\n",
       " 'brianaregland',\n",
       " 'traceyhappymom',\n",
       " 'emileewaren',\n",
       " 'johnbranchh',\n",
       " 'paulinett',\n",
       " 'hiimkhloe',\n",
       " 'puredavie',\n",
       " 'evagreen69',\n",
       " 'ten_gop',\n",
       " 'queenofthewo',\n",
       " 'pamela_moore13',\n",
       " 'anthonywoodboy',\n",
       " 'cookncooks',\n",
       " 'dorothiebell',\n",
       " 'patriotblake',\n",
       " 'datwisenigga',\n",
       " 'mil0blake',\n",
       " 'mr_clampin',\n",
       " 'jeannemccarthy0',\n",
       " 'jacquelinisbest',\n",
       " 'kathiemrr',\n",
       " 'jasper_fly',\n",
       " '_nickluna_',\n",
       " 'leroylovesusa',\n",
       " 'tpartynews',\n",
       " 'westernwindwes',\n",
       " 'lazykstafford',\n",
       " 'mrclydepratt',\n",
       " 'judelambertusa',\n",
       " 'heyits_toby',\n",
       " 'hyddrox',\n",
       " 'ryanmaxwell_1',\n",
       " 'jeffreykahunas',\n",
       " 'melanymelanin',\n",
       " 'laurabaeley',\n",
       " 'kateritterrrr',\n",
       " 'hollandpatrickk',\n",
       " 'malloryjared',\n",
       " 'baobaeham',\n",
       " 'thefoundingson',\n",
       " 'evewebster373',\n",
       " 'priceforpierce',\n",
       " 'melvinsroberts',\n",
       " 'ameliebaldwin',\n",
       " 'michellearry']"
      ]
     },
     "execution_count": 34,
     "metadata": {},
     "output_type": "execute_result"
    }
   ],
   "source": [
    "high_volume_list"
   ]
  },
  {
   "cell_type": "code",
   "execution_count": 35,
   "metadata": {},
   "outputs": [
    {
     "data": {
      "text/plain": [
       "(161597, 7)"
      ]
     },
     "execution_count": 35,
     "metadata": {},
     "output_type": "execute_result"
    }
   ],
   "source": [
    "english_tweets = tweets.loc[english_mask]\n",
    "english_tweets = english_tweets.iloc[22356:]\n",
    "english_tweets.shape"
   ]
  },
  {
   "cell_type": "code",
   "execution_count": 36,
   "metadata": {},
   "outputs": [
    {
     "name": "stdout",
     "output_type": "stream",
     "text": [
      "49\n"
     ]
    }
   ],
   "source": [
    "english_high_volume_list = []\n",
    "\n",
    "for user in set(english_tweets.user_key):\n",
    "    if (english_tweets.user_key == user).sum() >= 1000:\n",
    "        english_high_volume_list.append(user)\n",
    "        \n",
    "print(len(english_high_volume_list)) \n",
    "english_tweets['high_volume_user'] = english_tweets.user_key.map(lambda user: True if user in english_high_volume_list else False)"
   ]
  },
  {
   "cell_type": "code",
   "execution_count": 37,
   "metadata": {},
   "outputs": [],
   "source": [
    "# manual categorization of political audiences\n",
    "political_targets = {'cookncooks' :  'Right',\n",
    "                     'michellearry' : 'Right',\n",
    "                     'jacquelinisbest' : 'Right',\n",
    "                     'mil0blake' : 'Right',\n",
    "                     'hyddrox' : 'Right',\n",
    "                     '_nickluna_' : 'Right',\n",
    "                     'notritahart' : 'Left',\n",
    "                     'judelambertusa' : \"Right\",\n",
    "                     'mrclydepratt' : 'Left',\n",
    "                     'heyits_toby' : 'Right',\n",
    "                     'ten_gop' : 'Left',\n",
    "                     'emileewaren' : 'Right',\n",
    "                     'hiimkhloe' : 'Left',\n",
    "                     'anthonywoodboy' : 'Right',\n",
    "                     'pamela_moore13' : 'Right',\n",
    "                     'brianaregland' : 'Left',\n",
    "                     'micparrish' : 'Right',\n",
    "                     'datwisenigga' : 'Left',\n",
    "                     'evagreen69' : 'Right',\n",
    "                     'giselleevns' : 'Left',\n",
    "                     'jeannemccarthy0' : 'Right',\n",
    "                     'queenofthewo' : 'Left',\n",
    "                     'garrettsimpson_' : 'Right',\n",
    "                     'finley1589' : 'Right',\n",
    "                     'willisbonnerr' : 'Left',\n",
    "                     'melanymelanin' : 'Left',\n",
    "                     'paulinett' : 'Left',\n",
    "                     'malloryjared' : 'Left',\n",
    "                     'daileyjadon' : 'Left',\n",
    "                     'thefoundingson' : 'Right',\n",
    "                     'patriotblake' : 'Right',\n",
    "                     'leroylovesusa' : 'Right',\n",
    "                     'rh0lbr00k' : 'Right',\n",
    "                     'traceyhappymom' : 'Left',\n",
    "                     'tpartynews' : 'Right',\n",
    "                     'dorothiebell' : 'Right',\n",
    "                     'kateritterrrr' : 'Right',\n",
    "                     'puredavie' : 'Right',\n",
    "                     'priceforpierce' : 'Right',\n",
    "                     'ameliebaldwin' : 'Right',\n",
    "                     'jeffreykahunas' : 'Right',\n",
    "                     'patriotraphael' : 'Right',\n",
    "                     'ryanmaxwell_1' : 'Right',\n",
    "                     'laurabaeley' : 'Right',\n",
    "                     'lazykstafford' : 'Right'\n",
    "                    }"
   ]
  },
  {
   "cell_type": "code",
   "execution_count": 39,
   "metadata": {},
   "outputs": [],
   "source": [
    "english_tweets = english_tweets.loc[english_tweets.high_volume_user]\n",
    "english_tweets['target_audience'] = english_tweets.user_key.map(political_targets).value_counts()"
   ]
  },
  {
   "cell_type": "code",
   "execution_count": 41,
   "metadata": {},
   "outputs": [],
   "source": [
    "#english_tweets.to_csv('./datasets/lda_ready_tweets.csv')"
   ]
  }
 ],
 "metadata": {
  "kernelspec": {
   "display_name": "Python 3",
   "language": "python",
   "name": "python3"
  },
  "language_info": {
   "codemirror_mode": {
    "name": "ipython",
    "version": 3
   },
   "file_extension": ".py",
   "mimetype": "text/x-python",
   "name": "python",
   "nbconvert_exporter": "python",
   "pygments_lexer": "ipython3",
   "version": "3.6.7"
  }
 },
 "nbformat": 4,
 "nbformat_minor": 2
}
