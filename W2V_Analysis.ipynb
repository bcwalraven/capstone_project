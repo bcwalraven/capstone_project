{
 "cells": [
  {
   "cell_type": "markdown",
   "metadata": {},
   "source": [
    "# Word2Vec Analysis"
   ]
  },
  {
   "cell_type": "markdown",
   "metadata": {},
   "source": [
    "Given that word embeddings are used to help show the context of words, can Word2Vec be used to help build a literary of a fingerprint that could detect the writing of a specific author if it is given a corpus of their work? If this could this be used to identify the writing styles of the foreighn political influencers in the 2016 election and help to identify future attempts to meddle under new user keys?\n",
    "\n",
    "To test this hypothesis I built W2V models for several authors identified in the 2016 election and compared their scores using the cosine similiarity of each shared word embedding in their vercor space. I then preformed some analysis on the results to help assess their validity.  "
   ]
  },
  {
   "cell_type": "code",
   "execution_count": 1,
   "metadata": {},
   "outputs": [],
   "source": [
    "import numpy as np\n",
    "import pandas as pd\n",
    "import datetime as dt\n",
    "import matplotlib.pyplot as plt\n",
    "plt.rcParams.update({'font.size': 13})\n",
    "import seaborn as sns\n",
    "\n",
    "from bs4 import BeautifulSoup\n",
    "import regex as re\n",
    "import nltk\n",
    "\n",
    "from gensim.models.word2vec import Word2Vec\n",
    "from sklearn.linear_model import LogisticRegression\n",
    "from sklearn.model_selection import train_test_split\n",
    "from sklearn.metrics import accuracy_score\n",
    "\n",
    "from gensim.corpora.dictionary import Dictionary\n",
    "from gensim.models import LdaModel\n",
    "from collections import defaultdict\n",
    "from nltk.corpus import stopwords"
   ]
  },
  {
   "cell_type": "code",
   "execution_count": 2,
   "metadata": {},
   "outputs": [],
   "source": [
    "# importing the cleaned tweet dataset\n",
    "w2v_tweets = pd.read_csv('./datasets/cleaned_tweets.csv')\n",
    "# rsetting it to a datetime index\n",
    "w2v_tweets['date'] = w2v_tweets.date.map(lambda date: dt.datetime.strptime(date, '%Y-%m-%d %H:%M:%S'))\n",
    "# set date column as index\n",
    "w2v_tweets.set_index('date', inplace=True)\n",
    "# reorder index by date\n",
    "w2v_tweets.sort_index(inplace=True)"
   ]
  },
  {
   "cell_type": "code",
   "execution_count": 3,
   "metadata": {},
   "outputs": [],
   "source": [
    "# defining the masks to filer the target tweets\n",
    "english_mask = w2v_tweets.lang == 'en'\n",
    "high_volume_mask = w2v_tweets.high_volume_user\n",
    "retweet_mask = w2v_tweets.retweet"
   ]
  },
  {
   "cell_type": "markdown",
   "metadata": {},
   "source": [
    "**Isolating Original Tweets From High Volume Users Written in English**"
   ]
  },
  {
   "cell_type": "code",
   "execution_count": 4,
   "metadata": {},
   "outputs": [
    {
     "data": {
      "text/plain": [
       "(30108, 7)"
      ]
     },
     "execution_count": 4,
     "metadata": {},
     "output_type": "execute_result"
    }
   ],
   "source": [
    "w2v_tweets = w2v_tweets.loc[english_mask & high_volume_mask & ~retweet_mask]\n",
    "w2v_tweets.shape"
   ]
  },
  {
   "cell_type": "code",
   "execution_count": 5,
   "metadata": {},
   "outputs": [
    {
     "data": {
      "text/html": [
       "<div>\n",
       "<style scoped>\n",
       "    .dataframe tbody tr th:only-of-type {\n",
       "        vertical-align: middle;\n",
       "    }\n",
       "\n",
       "    .dataframe tbody tr th {\n",
       "        vertical-align: top;\n",
       "    }\n",
       "\n",
       "    .dataframe thead th {\n",
       "        text-align: right;\n",
       "    }\n",
       "</style>\n",
       "<table border=\"1\" class=\"dataframe\">\n",
       "  <thead>\n",
       "    <tr style=\"text-align: right;\">\n",
       "      <th></th>\n",
       "      <th>user_key</th>\n",
       "      <th>text</th>\n",
       "      <th>cleaned_text</th>\n",
       "      <th>hashtags</th>\n",
       "      <th>lang</th>\n",
       "      <th>high_volume_user</th>\n",
       "      <th>retweet</th>\n",
       "    </tr>\n",
       "    <tr>\n",
       "      <th>date</th>\n",
       "      <th></th>\n",
       "      <th></th>\n",
       "      <th></th>\n",
       "      <th></th>\n",
       "      <th></th>\n",
       "      <th></th>\n",
       "      <th></th>\n",
       "    </tr>\n",
       "  </thead>\n",
       "  <tbody>\n",
       "    <tr>\n",
       "      <th>2014-07-14 18:04:55</th>\n",
       "      <td>evagreen69</td>\n",
       "      <td>I am in Love with LOVE!</td>\n",
       "      <td>i am in love with love</td>\n",
       "      <td>[]</td>\n",
       "      <td>en</td>\n",
       "      <td>True</td>\n",
       "      <td>False</td>\n",
       "    </tr>\n",
       "    <tr>\n",
       "      <th>2014-07-20 06:30:01</th>\n",
       "      <td>heyits_toby</td>\n",
       "      <td>True tolerance does not consist in saying, \"Yo...</td>\n",
       "      <td>true tolerance does not consist in saying you ...</td>\n",
       "      <td>[]</td>\n",
       "      <td>en</td>\n",
       "      <td>True</td>\n",
       "      <td>False</td>\n",
       "    </tr>\n",
       "    <tr>\n",
       "      <th>2014-07-20 07:02:33</th>\n",
       "      <td>heyits_toby</td>\n",
       "      <td>oh and Ur in a position to judge me because? t...</td>\n",
       "      <td>oh and ur in a position to judge me because tw...</td>\n",
       "      <td>[]</td>\n",
       "      <td>en</td>\n",
       "      <td>True</td>\n",
       "      <td>False</td>\n",
       "    </tr>\n",
       "    <tr>\n",
       "      <th>2014-07-23 13:26:32</th>\n",
       "      <td>heyits_toby</td>\n",
       "      <td>Today's weather forecast: Severe case of PMS w...</td>\n",
       "      <td>today s weather forecast severe case of pms wi...</td>\n",
       "      <td>[]</td>\n",
       "      <td>en</td>\n",
       "      <td>True</td>\n",
       "      <td>False</td>\n",
       "    </tr>\n",
       "    <tr>\n",
       "      <th>2014-07-25 18:05:36</th>\n",
       "      <td>heyits_toby</td>\n",
       "      <td>has lost their sanity... Oh wait... No... It w...</td>\n",
       "      <td>has lost their sanity oh wait no it was never ...</td>\n",
       "      <td>[]</td>\n",
       "      <td>en</td>\n",
       "      <td>True</td>\n",
       "      <td>False</td>\n",
       "    </tr>\n",
       "  </tbody>\n",
       "</table>\n",
       "</div>"
      ],
      "text/plain": [
       "                        user_key  \\\n",
       "date                               \n",
       "2014-07-14 18:04:55   evagreen69   \n",
       "2014-07-20 06:30:01  heyits_toby   \n",
       "2014-07-20 07:02:33  heyits_toby   \n",
       "2014-07-23 13:26:32  heyits_toby   \n",
       "2014-07-25 18:05:36  heyits_toby   \n",
       "\n",
       "                                                                  text  \\\n",
       "date                                                                     \n",
       "2014-07-14 18:04:55                            I am in Love with LOVE!   \n",
       "2014-07-20 06:30:01  True tolerance does not consist in saying, \"Yo...   \n",
       "2014-07-20 07:02:33  oh and Ur in a position to judge me because? t...   \n",
       "2014-07-23 13:26:32  Today's weather forecast: Severe case of PMS w...   \n",
       "2014-07-25 18:05:36  has lost their sanity... Oh wait... No... It w...   \n",
       "\n",
       "                                                          cleaned_text  \\\n",
       "date                                                                     \n",
       "2014-07-14 18:04:55                            i am in love with love    \n",
       "2014-07-20 06:30:01  true tolerance does not consist in saying you ...   \n",
       "2014-07-20 07:02:33  oh and ur in a position to judge me because tw...   \n",
       "2014-07-23 13:26:32  today s weather forecast severe case of pms wi...   \n",
       "2014-07-25 18:05:36  has lost their sanity oh wait no it was never ...   \n",
       "\n",
       "                    hashtags lang  high_volume_user  retweet  \n",
       "date                                                          \n",
       "2014-07-14 18:04:55       []   en              True    False  \n",
       "2014-07-20 06:30:01       []   en              True    False  \n",
       "2014-07-20 07:02:33       []   en              True    False  \n",
       "2014-07-23 13:26:32       []   en              True    False  \n",
       "2014-07-25 18:05:36       []   en              True    False  "
      ]
     },
     "execution_count": 5,
     "metadata": {},
     "output_type": "execute_result"
    }
   ],
   "source": [
    "w2v_tweets.head()"
   ]
  },
  {
   "cell_type": "code",
   "execution_count": 6,
   "metadata": {},
   "outputs": [
    {
     "data": {
      "text/plain": [
       "thefoundingson    2981\n",
       "ten_gop           2975\n",
       "tpartynews        1455\n",
       "pamela_moore13    1274\n",
       "puredavie         1093\n",
       "cassieweltch      1092\n",
       "mr_clampin         891\n",
       "giselleevns        884\n",
       "ryanmaxwell_1      837\n",
       "notritahart        834\n",
       "Name: user_key, dtype: int64"
      ]
     },
     "execution_count": 6,
     "metadata": {},
     "output_type": "execute_result"
    }
   ],
   "source": [
    "# this is ultimately not a lot of text for w2v, let's see how the top 2 perform\n",
    "w2v_tweets.user_key.value_counts(ascending=False).head(10)"
   ]
  },
  {
   "cell_type": "markdown",
   "metadata": {},
   "source": [
    "Before going further, lets see if our corpus contain enough samples for W2V features to be used as a classification technique with any reasonalby accuarcy above the baseline. "
   ]
  },
  {
   "cell_type": "markdown",
   "metadata": {},
   "source": [
    "**Splitting by user_key and processing text**"
   ]
  },
  {
   "cell_type": "code",
   "execution_count": 7,
   "metadata": {},
   "outputs": [],
   "source": [
    "# preparing text for word 2 vec\n",
    "# we could also remove @user tags, but since they are part of the language of twitter, we will leave them in\n",
    "def process_text(raw_text):\n",
    "    # removing web links\n",
    "    text = re.sub(r' https:[^\\s]+', repl='', string=raw_text)\n",
    "    text = re.sub(r' http:[^\\s]+', repl='', string=text)\n",
    "    text = re.sub(r'https:[^\\s]+', repl='', string=text)\n",
    "    text = re.sub(r'http:[^\\s]+', repl='', string=text)\n",
    "    # remove hashtags\n",
    "    text = re.sub(r'\\B#\\w\\w+', repl='', string=text)\n",
    "    # removing any html artifacts\n",
    "    text = BeautifulSoup(text, 'lxml').get_text().lower() \n",
    "    # removing any undesireable punctuation\n",
    "    text = re.sub('[^0-9A-Za-z!?]+', repl=' ', string=text)\n",
    "    # formatting for w2v\n",
    "    return nltk.word_tokenize(text)"
   ]
  },
  {
   "cell_type": "code",
   "execution_count": 8,
   "metadata": {},
   "outputs": [],
   "source": [
    "w2v_tweets['processed_text'] = w2v_tweets.cleaned_text.map(process_text)"
   ]
  },
  {
   "cell_type": "code",
   "execution_count": 9,
   "metadata": {},
   "outputs": [
    {
     "name": "stderr",
     "output_type": "stream",
     "text": [
      "/anaconda3/lib/python3.6/site-packages/ipykernel_launcher.py:5: SettingWithCopyWarning: \n",
      "A value is trying to be set on a copy of a slice from a DataFrame.\n",
      "Try using .loc[row_indexer,col_indexer] = value instead\n",
      "\n",
      "See the caveats in the documentation: http://pandas.pydata.org/pandas-docs/stable/indexing.html#indexing-view-versus-copy\n",
      "  \"\"\"\n"
     ]
    }
   ],
   "source": [
    "# filtering tweets from the two highest-tweeting users \n",
    "testing_corpus = w2v_tweets.loc[(w2v_tweets.user_key=='thefoundingson') | (w2v_tweets.user_key=='ten_gop')]\n",
    "\n",
    "# preparing their text for the W2V models\n",
    "testing_corpus['processed_text'] = testing_corpus.text.map(process_text)"
   ]
  },
  {
   "cell_type": "markdown",
   "metadata": {},
   "source": [
    "**Building The Models**"
   ]
  },
  {
   "cell_type": "code",
   "execution_count": 10,
   "metadata": {},
   "outputs": [],
   "source": [
    "# defining a function to quickly build models with default features\n",
    "def build_w2v(sentences, num_features=300, min_word_count = 3, context=6, downsampling = 1e-3):\n",
    "    \n",
    "    W2Vmodel = Word2Vec(sentences=sentences,\n",
    "                        sg=1,\n",
    "                        hs=0,\n",
    "                        size=num_features,\n",
    "                        min_count=min_word_count,\n",
    "                        window=context,\n",
    "                        sample=downsampling,\n",
    "                        negative=5,\n",
    "                        iter=6)\n",
    "    return W2Vmodel"
   ]
  },
  {
   "cell_type": "code",
   "execution_count": 11,
   "metadata": {},
   "outputs": [
    {
     "name": "stdout",
     "output_type": "stream",
     "text": [
      "CPU times: user 3.89 s, sys: 16.7 ms, total: 3.9 s\n",
      "Wall time: 1.53 s\n"
     ]
    }
   ],
   "source": [
    "%%time\n",
    "# Initialize and train the model\n",
    "testing_corpus_W2Vmodel = build_w2v(testing_corpus.processed_text)"
   ]
  },
  {
   "cell_type": "markdown",
   "metadata": {},
   "source": [
    "**Appending Features to Dataframe**"
   ]
  },
  {
   "cell_type": "code",
   "execution_count": 12,
   "metadata": {},
   "outputs": [],
   "source": [
    "# modified from function viewed on kaggle kernel \n",
    "# https://www.kaggle.com/vukglisovic/classification-combining-lda-and-word2vec\n",
    "def get_w2v_features(w2v_model, sentence_group):\n",
    "    \"\"\" Transform a sentence_group (containing multiple lists\n",
    "    of words) into a feature vector. It averages out all the\n",
    "    word vectors of the sentence_group.\n",
    "    \"\"\"\n",
    "    words = sentence_group  # words in text\n",
    "    index2word_set = set(w2v_model.wv.vocab.keys())  # words known to model\n",
    "    \n",
    "    featureVec = np.zeros(w2v_model.vector_size, dtype=\"float32\")\n",
    "    \n",
    "    # Initialize a counter for number of words in a review\n",
    "    nwords = 0\n",
    "    # Loop over each word in the comment and, if it is in the model's vocabulary, \n",
    "    # add its feature vector to the total\n",
    "    for word in words:\n",
    "        if word in index2word_set: \n",
    "            featureVec = np.add(featureVec, w2v_model[word])\n",
    "            nwords += 1.\n",
    "\n",
    "    # Divide the result by the number of words to get the average\n",
    "    if nwords > 0:\n",
    "        featureVec = np.divide(featureVec, nwords)\n",
    "    return featureVec"
   ]
  },
  {
   "cell_type": "code",
   "execution_count": 13,
   "metadata": {},
   "outputs": [],
   "source": [
    "import warnings\n",
    "warnings.filterwarnings(\"ignore\")"
   ]
  },
  {
   "cell_type": "code",
   "execution_count": 14,
   "metadata": {},
   "outputs": [],
   "source": [
    "# setting W2V features\n",
    "testing_corpus['w2v_features'] = testing_corpus.processed_text.map(lambda text:\n",
    "                                      get_w2v_features(testing_corpus_W2Vmodel, text))"
   ]
  },
  {
   "cell_type": "markdown",
   "metadata": {},
   "source": [
    "**Setting feature columns**"
   ]
  },
  {
   "cell_type": "code",
   "execution_count": 15,
   "metadata": {},
   "outputs": [],
   "source": [
    "testing_corpus['target'] = testing_corpus.user_key.map(lambda x: 1 if x == 'thefoundingson' else 0)"
   ]
  },
  {
   "cell_type": "code",
   "execution_count": 16,
   "metadata": {},
   "outputs": [],
   "source": [
    "X = np.array(list(map(np.array, testing_corpus.w2v_features)))\n",
    "y = testing_corpus.target"
   ]
  },
  {
   "cell_type": "code",
   "execution_count": 17,
   "metadata": {},
   "outputs": [
    {
     "data": {
      "text/plain": [
       "1    0.500504\n",
       "0    0.499496\n",
       "Name: target, dtype: float64"
      ]
     },
     "execution_count": 17,
     "metadata": {},
     "output_type": "execute_result"
    }
   ],
   "source": [
    "# checking the baseline\n",
    "y.value_counts(normalize=True)"
   ]
  },
  {
   "cell_type": "code",
   "execution_count": 18,
   "metadata": {},
   "outputs": [],
   "source": [
    "X_train, X_test, y_train, y_test = train_test_split(X, y, random_state=42)"
   ]
  },
  {
   "cell_type": "markdown",
   "metadata": {},
   "source": [
    "**Testing with Naive Bayes**"
   ]
  },
  {
   "cell_type": "code",
   "execution_count": 19,
   "metadata": {},
   "outputs": [],
   "source": [
    "from sklearn.naive_bayes import GaussianNB"
   ]
  },
  {
   "cell_type": "code",
   "execution_count": 20,
   "metadata": {},
   "outputs": [],
   "source": [
    "gb = GaussianNB()"
   ]
  },
  {
   "cell_type": "code",
   "execution_count": 21,
   "metadata": {},
   "outputs": [
    {
     "data": {
      "text/plain": [
       "GaussianNB(priors=None)"
      ]
     },
     "execution_count": 21,
     "metadata": {},
     "output_type": "execute_result"
    }
   ],
   "source": [
    "gb.fit(X_train, y_train)"
   ]
  },
  {
   "cell_type": "code",
   "execution_count": 22,
   "metadata": {},
   "outputs": [
    {
     "data": {
      "text/plain": [
       "0.7062905753301992"
      ]
     },
     "execution_count": 22,
     "metadata": {},
     "output_type": "execute_result"
    }
   ],
   "source": [
    "gb.score(X_train, y_train)"
   ]
  },
  {
   "cell_type": "code",
   "execution_count": 23,
   "metadata": {},
   "outputs": [
    {
     "data": {
      "text/plain": [
       "0.6924110141034251"
      ]
     },
     "execution_count": 23,
     "metadata": {},
     "output_type": "execute_result"
    }
   ],
   "source": [
    "y_pred = gb.predict(X_test)\n",
    "accuracy_score(y_test, y_pred)"
   ]
  },
  {
   "cell_type": "markdown",
   "metadata": {},
   "source": [
    "---"
   ]
  },
  {
   "cell_type": "markdown",
   "metadata": {},
   "source": [
    "# Word2Fingrepirnt - Cosine Similarity"
   ]
  },
  {
   "cell_type": "markdown",
   "metadata": {},
   "source": [
    "To compare the cosine similarity of each author, two functions were built. The first calculates the average cosine similarity of all shared word embeddings in the two corpora being compared. The second takes in a list of authors and their respective corpora, builds W2V models for them, and compares their similiarity to a specified target author."
   ]
  },
  {
   "cell_type": "code",
   "execution_count": 24,
   "metadata": {},
   "outputs": [],
   "source": [
    "from sklearn.metrics.pairwise import cosine_similarity"
   ]
  },
  {
   "cell_type": "code",
   "execution_count": 25,
   "metadata": {},
   "outputs": [],
   "source": [
    "def get_w2v_cosine_similarity(w2v_model_1, w2v_model_2):\n",
    "    \n",
    "    model_1_words = set(w2v_model_1.wv.vocab.keys())  # words known to first model\n",
    "    model_2_words = set(w2v_model_2.wv.vocab.keys())  # words known to second model\n",
    "    \n",
    "    # Initialize a counter for number of words in a review\n",
    "    cosines = []\n",
    "    # Loop over each word in the comment and, if it is in the model's vocabulary, \n",
    "    # add its cosine sim value to the list\n",
    "    for word in model_1_words:\n",
    "        if word in model_2_words: \n",
    "            cosines.append(cosine_similarity(w2v_model_1[word].reshape(1, -1), \n",
    "                                             w2v_model_2[word].reshape(1, -1)))\n",
    "\n",
    "    # return the average of all cosine scores and the number of similar words\n",
    "    return (np.array(cosines).mean(), len(cosines))"
   ]
  },
  {
   "cell_type": "code",
   "execution_count": 26,
   "metadata": {
    "scrolled": false
   },
   "outputs": [],
   "source": [
    "def cosine_dataframe(data, authors, target_author):\n",
    "    # build a sekelton for the df with columns and a for for each author being compared\n",
    "    df = pd.DataFrame(columns = ['user_key', 'cosine_sim', 'words'], index = range(len(authors)))\n",
    "    # process the target author text and build the W2v Model\n",
    "    target_author_text = data.text.loc[data.user_key == target_author].map(process_text)\n",
    "    target_W2Vmodel = build_w2v(sentences=target_author_text)\n",
    "    \n",
    "    # iterating through each author\n",
    "    for i in range(len(authors)):\n",
    "        \n",
    "        # process the author's text and build the w2v model\n",
    "        author_text = data.text.loc[data.user_key == authors[i]].map(process_text)\n",
    "        W2Vmodel = build_w2v(sentences=author_text)\n",
    "        # calculate their avg cosine similarity and number of words\n",
    "        cosine, words = get_w2v_cosine_similarity(target_W2Vmodel, W2Vmodel)\n",
    "        # add the scores, words, and author name to the dataframe\n",
    "        df.iloc[i] = [authors[i], round(cosine, 3), words]\n",
    "        \n",
    "    return(df.sort_values(by='cosine_sim', axis=0, ascending=False))"
   ]
  },
  {
   "cell_type": "code",
   "execution_count": 27,
   "metadata": {
    "scrolled": true
   },
   "outputs": [
    {
     "data": {
      "text/html": [
       "<div>\n",
       "<style scoped>\n",
       "    .dataframe tbody tr th:only-of-type {\n",
       "        vertical-align: middle;\n",
       "    }\n",
       "\n",
       "    .dataframe tbody tr th {\n",
       "        vertical-align: top;\n",
       "    }\n",
       "\n",
       "    .dataframe thead th {\n",
       "        text-align: right;\n",
       "    }\n",
       "</style>\n",
       "<table border=\"1\" class=\"dataframe\">\n",
       "  <thead>\n",
       "    <tr style=\"text-align: right;\">\n",
       "      <th></th>\n",
       "      <th>user_key</th>\n",
       "      <th>cosine_sim</th>\n",
       "      <th>words</th>\n",
       "    </tr>\n",
       "  </thead>\n",
       "  <tbody>\n",
       "    <tr>\n",
       "      <th>0</th>\n",
       "      <td>thefoundingson</td>\n",
       "      <td>0.981</td>\n",
       "      <td>1638</td>\n",
       "    </tr>\n",
       "    <tr>\n",
       "      <th>2</th>\n",
       "      <td>tpartynews</td>\n",
       "      <td>0.806</td>\n",
       "      <td>763</td>\n",
       "    </tr>\n",
       "    <tr>\n",
       "      <th>3</th>\n",
       "      <td>pamela_moore13</td>\n",
       "      <td>0.79</td>\n",
       "      <td>739</td>\n",
       "    </tr>\n",
       "    <tr>\n",
       "      <th>8</th>\n",
       "      <td>ryanmaxwell_1</td>\n",
       "      <td>0.758</td>\n",
       "      <td>430</td>\n",
       "    </tr>\n",
       "    <tr>\n",
       "      <th>7</th>\n",
       "      <td>giselleevns</td>\n",
       "      <td>0.736</td>\n",
       "      <td>331</td>\n",
       "    </tr>\n",
       "    <tr>\n",
       "      <th>1</th>\n",
       "      <td>ten_gop</td>\n",
       "      <td>0.735</td>\n",
       "      <td>1041</td>\n",
       "    </tr>\n",
       "    <tr>\n",
       "      <th>9</th>\n",
       "      <td>notritahart</td>\n",
       "      <td>0.734</td>\n",
       "      <td>283</td>\n",
       "    </tr>\n",
       "    <tr>\n",
       "      <th>6</th>\n",
       "      <td>mr_clampin</td>\n",
       "      <td>0.729</td>\n",
       "      <td>310</td>\n",
       "    </tr>\n",
       "    <tr>\n",
       "      <th>4</th>\n",
       "      <td>puredavie</td>\n",
       "      <td>0.714</td>\n",
       "      <td>422</td>\n",
       "    </tr>\n",
       "    <tr>\n",
       "      <th>5</th>\n",
       "      <td>cassieweltch</td>\n",
       "      <td>0.7</td>\n",
       "      <td>374</td>\n",
       "    </tr>\n",
       "  </tbody>\n",
       "</table>\n",
       "</div>"
      ],
      "text/plain": [
       "         user_key cosine_sim words\n",
       "0  thefoundingson      0.981  1638\n",
       "2      tpartynews      0.806   763\n",
       "3  pamela_moore13       0.79   739\n",
       "8   ryanmaxwell_1      0.758   430\n",
       "7     giselleevns      0.736   331\n",
       "1         ten_gop      0.735  1041\n",
       "9     notritahart      0.734   283\n",
       "6      mr_clampin      0.729   310\n",
       "4       puredavie      0.714   422\n",
       "5    cassieweltch        0.7   374"
      ]
     },
     "execution_count": 27,
     "metadata": {},
     "output_type": "execute_result"
    }
   ],
   "source": [
    "authors = list(w2v_tweets.user_key.value_counts().head(10).keys())\n",
    "\n",
    "cosine_dataframe(w2v_tweets, authors, 'thefoundingson')"
   ]
  },
  {
   "cell_type": "markdown",
   "metadata": {},
   "source": [
    "**The authors fall within an approximate 10% range of similarity, lets dig further to see how reliable they are.**"
   ]
  },
  {
   "cell_type": "markdown",
   "metadata": {},
   "source": [
    "# Testing Consistency"
   ]
  },
  {
   "cell_type": "markdown",
   "metadata": {},
   "source": [
    "The first test will compare multiple users and see how decreasing shared word count impacts score and the standard deviation of results"
   ]
  },
  {
   "cell_type": "code",
   "execution_count": 28,
   "metadata": {
    "scrolled": false
   },
   "outputs": [],
   "source": [
    "def cosine_multiple_user_test(data, authors, target_author, n_trials, num_features=300):\n",
    "    # building an empth data frame with a row for each author\n",
    "    df = pd.DataFrame(index = range(len(authors)))\n",
    "    # filling in the user_key column and setting the words, mean, and std columns as blank\n",
    "    df['user_key'] = pd.Series(authors)\n",
    "    df['words'] = 0\n",
    "    df['mean'] = 0\n",
    "    df['std'] = 0\n",
    "    \n",
    "    # build a row of zeros to filled in for each trial\n",
    "    for t in range(n_trials):\n",
    "        df[f'trial_{t+1}'] = 0\n",
    "    \n",
    "    # processing the target author text\n",
    "    target_author_text = data.text.loc[data.user_key == target_author].map(process_text)\n",
    "    \n",
    "    for t in range(n_trials): \n",
    "        # building target w2v (new target w2v for each trial)\n",
    "        target_W2Vmodel = build_w2v(sentences=target_author_text)\n",
    "        \n",
    "        # iterate through every author\n",
    "        for i in range(len(authors)):\n",
    "            # process author text\n",
    "            author_text = data.text.loc[data.user_key == authors[i]].map(process_text)\n",
    "\n",
    "            # Initialize and train the model\n",
    "            W2Vmodel = build_w2v(sentences=author_text)\n",
    "            # score similarity\n",
    "            cosine, words = get_w2v_cosine_similarity(target_W2Vmodel, W2Vmodel)\n",
    "            # add cosine score to the trial column and author row\n",
    "            df.iloc[i, t+4] = [cosine]\n",
    "            # if this is the first trial append the words to the words column\n",
    "            if t == 0:\n",
    "                df.iloc[i, t+1] = words\n",
    "    \n",
    "    # after the trials complete calculate the mean similarity and std for each author\n",
    "    end = df.shape[1] + 1\n",
    "    df['mean'] = df.iloc[:, 4:end].apply(lambda x: np.mean(x), axis = 1)\n",
    "    df['std'] = df.iloc[:, 4:end].apply(lambda x: np.std(x), axis = 1)\n",
    "        \n",
    "    return(df.sort_values(by='words', axis=0, ascending=False).reset_index(drop=True))"
   ]
  },
  {
   "cell_type": "code",
   "execution_count": 29,
   "metadata": {
    "scrolled": false
   },
   "outputs": [],
   "source": [
    "authors = list(w2v_tweets.user_key.value_counts().head(15).keys())\n",
    "\n",
    "cosine_trials_300d = cosine_multiple_user_test(data = w2v_tweets, \n",
    "                                               authors = authors, \n",
    "                                               target_author = 'thefoundingson', \n",
    "                                               n_trials = 10)"
   ]
  },
  {
   "cell_type": "code",
   "execution_count": 30,
   "metadata": {},
   "outputs": [
    {
     "data": {
      "image/png": "[encoded data removed]",
      "text/plain": [
       "<Figure size 576x432 with 1 Axes>"
      ]
     },
     "metadata": {},
     "output_type": "display_data"
    }
   ],
   "source": [
    "plt.figure(figsize=(8,6))\n",
    "sns.regplot(cosine_trials_300d.words, cosine_trials_300d['std'])\n",
    "plt.title(\"Standard Deviation in Cosine Sim Based on Number of Shared Words\")\n",
    "plt.ylabel('Standard Deviation')\n",
    "plt.xlabel('Number of Shared Words')\n",
    "plt.ylim([0, .005]);"
   ]
  },
  {
   "cell_type": "markdown",
   "metadata": {},
   "source": [
    "# Testing Data Sensitivity "
   ]
  },
  {
   "cell_type": "markdown",
   "metadata": {},
   "source": [
    "The second test will compare one user to itself with different percentages of randomly selected texts, and record how limited data impacts the average cosine similarity. The test will be run with both unsorted and sorted data."
   ]
  },
  {
   "cell_type": "code",
   "execution_count": 31,
   "metadata": {},
   "outputs": [],
   "source": [
    "def cosine_same_user_test(data, n_trials, num_features=300, sort_data=True):\n",
    "    \n",
    "    df = pd.DataFrame(index = range(10))\n",
    "    \n",
    "    df['percentage'] = np.linspace(1, .1, 10)\n",
    "    df['mean'] = 0\n",
    "    df['std'] = 0\n",
    "    \n",
    "    original_W2Vmodel = build_w2v(sentences=data)\n",
    "    \n",
    "    for t in range(n_trials):\n",
    "        df[f'trial_{t+1}'] = 0\n",
    "\n",
    "    for t in range(n_trials): \n",
    "            \n",
    "        for index, frac in enumerate(np.linspace(1, .1, 10)):\n",
    "            # gives the ability to test results with sorted and unsorted data\n",
    "            if sort_data:\n",
    "                trial_text = data.sample(frac=frac, replace=False).sort_index()\n",
    "            else:\n",
    "                trial_text = data.sample(frac=frac, replace=False)\n",
    "\n",
    "            trial_W2Vmodel = build_w2v(sentences=trial_text)\n",
    "\n",
    "            cosine, words = get_w2v_cosine_similarity(original_W2Vmodel, trial_W2Vmodel)\n",
    "\n",
    "            df.iloc[index, t+3] = [cosine]\n",
    "    \n",
    "    end = df.shape[1] + 1\n",
    "    df['mean'] = df.iloc[:, 4:end].apply(lambda x: np.mean(x), axis = 1)\n",
    "    df['std'] = df.iloc[:, 4:end].apply(lambda x: np.std(x), axis = 1)\n",
    "        \n",
    "    return df"
   ]
  },
  {
   "cell_type": "markdown",
   "metadata": {},
   "source": [
    "Setting up thefoundingson corpus (as it has the most data) and running the test with both sorted and unsorted data."
   ]
  },
  {
   "cell_type": "code",
   "execution_count": 32,
   "metadata": {},
   "outputs": [],
   "source": [
    "thefoundingson_corpus = w2v_tweets.loc[w2v_tweets.user_key == 'thefoundingson']"
   ]
  },
  {
   "cell_type": "code",
   "execution_count": 33,
   "metadata": {},
   "outputs": [],
   "source": [
    "cosine_same_user_trials_sorted = cosine_same_user_test(thefoundingson_corpus.processed_text, \n",
    "                                                       n_trials=10)\n",
    "cosine_same_user_trials_unsorted = cosine_same_user_test(thefoundingson_corpus.processed_text, \n",
    "                                                         n_trials=10,\n",
    "                                                         sort_data=False)"
   ]
  },
  {
   "cell_type": "markdown",
   "metadata": {},
   "source": [
    "**Unsorted Results**"
   ]
  },
  {
   "cell_type": "code",
   "execution_count": 34,
   "metadata": {},
   "outputs": [
    {
     "data": {
      "image/png": "[encoded data removed]",
      "text/plain": [
       "<Figure size 576x432 with 1 Axes>"
      ]
     },
     "metadata": {},
     "output_type": "display_data"
    }
   ],
   "source": [
    "plt.figure(figsize=(8,6))\n",
    "sns.regplot(cosine_same_user_trials_unsorted.percentage, \n",
    "            cosine_same_user_trials_unsorted['mean'].sort_values(ascending=False), \n",
    "            order=3, ci=None, truncate=True)\n",
    "plt.title(\"Cosine Curve with Data Removed (Unsorted)\")\n",
    "plt.ylabel('Cosine Similarity')\n",
    "plt.xlabel('Percent of Original Corpus in Comparison Set')\n",
    "plt.xticks([.2, .4, .6, .8, 1])\n",
    "plt.yticks([.7, .8, .9, 1], labels=['.70', '.80', '.90', '1.00']);"
   ]
  },
  {
   "cell_type": "markdown",
   "metadata": {},
   "source": [
    "**Sorted results**"
   ]
  },
  {
   "cell_type": "code",
   "execution_count": 35,
   "metadata": {},
   "outputs": [
    {
     "data": {
      "image/png": "[encoded data removed]",
      "text/plain": [
       "<Figure size 576x432 with 1 Axes>"
      ]
     },
     "metadata": {},
     "output_type": "display_data"
    }
   ],
   "source": [
    "plt.figure(figsize=(8,6))\n",
    "sns.regplot(cosine_same_user_trials_sorted.percentage, \n",
    "            cosine_same_user_trials_sorted['mean'].sort_values(ascending=False), \n",
    "            order=3, ci=None, truncate=True)\n",
    "plt.title(\"Cosine Curve with Data Removed (Sorted)\")\n",
    "plt.ylabel('Cosine Similarity')\n",
    "plt.xlabel('Percent of Original Corpus in Comparison Set')\n",
    "plt.xticks([.2, .4, .6, .8, 1])\n",
    "plt.yticks([.7, .8, .9, 1], labels=['.70', '.80', '.90', '1.00']);"
   ]
  },
  {
   "cell_type": "markdown",
   "metadata": {},
   "source": [
    "The results from the missing data test wiht sorted and unosrtd data show that the order in which the Word2Vwc model learns words is important. This makes sense if we think about what the model is doing, building a vector space based on the context of the words it sees. What is important is how the word embeddings relate to each other, but there is no requirement that model build out in the same set of axes. Effectively, when we train two models on a random order of documents, we are projecting the same structure into two different versions of n-dimensional space with different coordinate systems. To solve this problem we would either need determine a method to align the unknown axes, compare relationships in the models through a scalar metric, or to set the initial conditions so that a model generates embeddings in the same coordinate system. "
   ]
  },
  {
   "cell_type": "markdown",
   "metadata": {},
   "source": [
    "**Testing Results on a Pretrained Model**"
   ]
  },
  {
   "cell_type": "code",
   "execution_count": 36,
   "metadata": {},
   "outputs": [],
   "source": [
    "corpus_w2v = build_w2v(w2v_tweets.cleaned_text.map(process_text))"
   ]
  },
  {
   "cell_type": "code",
   "execution_count": 37,
   "metadata": {},
   "outputs": [],
   "source": [
    "baseline_w2v = corpus_w2v"
   ]
  },
  {
   "cell_type": "code",
   "execution_count": 38,
   "metadata": {},
   "outputs": [
    {
     "name": "stdout",
     "output_type": "stream",
     "text": [
      "CPU times: user 2.24 s, sys: 15.4 ms, total: 2.25 s\n",
      "Wall time: 980 ms\n"
     ]
    },
    {
     "data": {
      "text/plain": [
       "(160195, 215466)"
      ]
     },
     "execution_count": 38,
     "metadata": {},
     "output_type": "execute_result"
    }
   ],
   "source": [
    "%%time\n",
    "corpus_w2v.train(thefoundingson_corpus.processed_text, \n",
    "                 total_examples=len(thefoundingson_corpus),\n",
    "                 epochs=corpus_w2v.iter)"
   ]
  },
  {
   "cell_type": "code",
   "execution_count": 39,
   "metadata": {},
   "outputs": [],
   "source": [
    "test_2 = baseline_w2v"
   ]
  },
  {
   "cell_type": "code",
   "execution_count": 40,
   "metadata": {},
   "outputs": [],
   "source": [
    "ten_gop_corpus = w2v_tweets.loc[w2v_tweets.user_key == 'ten_gop']"
   ]
  },
  {
   "cell_type": "code",
   "execution_count": 41,
   "metadata": {},
   "outputs": [
    {
     "data": {
      "text/plain": [
       "(199379, 256020)"
      ]
     },
     "execution_count": 41,
     "metadata": {},
     "output_type": "execute_result"
    }
   ],
   "source": [
    "test_2.train(ten_gop_corpus.processed_text,\n",
    "             total_examples = len(ten_gop_corpus), \n",
    "             epochs=corpus_w2v.iter)"
   ]
  },
  {
   "cell_type": "code",
   "execution_count": 42,
   "metadata": {},
   "outputs": [
    {
     "data": {
      "text/plain": [
       "(1.0, 7443)"
      ]
     },
     "execution_count": 42,
     "metadata": {},
     "output_type": "execute_result"
    }
   ],
   "source": [
    "get_w2v_cosine_similarity(corpus_w2v, baseline_w2v)"
   ]
  },
  {
   "cell_type": "code",
   "execution_count": 43,
   "metadata": {},
   "outputs": [
    {
     "data": {
      "text/plain": [
       "(1.0, 7443)"
      ]
     },
     "execution_count": 43,
     "metadata": {},
     "output_type": "execute_result"
    }
   ],
   "source": [
    "get_w2v_cosine_similarity(corpus_w2v, test_2)"
   ]
  },
  {
   "cell_type": "markdown",
   "metadata": {},
   "source": [
    "Both tests show cosine scores of 1.0.\n",
    "\n",
    "---"
   ]
  },
  {
   "cell_type": "markdown",
   "metadata": {},
   "source": [
    "**Comparing average difference for cosine similarity in order to evaluate model similarity on a scalar value**"
   ]
  },
  {
   "cell_type": "code",
   "execution_count": 44,
   "metadata": {},
   "outputs": [],
   "source": [
    "def get_w2v_cosine_similarity_diff(w2v_model_1, w2v_model_2):\n",
    "    \n",
    "    model_1_words = set(w2v_model_1.wv.vocab.keys())  # words known to first model\n",
    "    model_2_words = set(w2v_model_2.wv.vocab.keys())  # words known to second model\n",
    "    \n",
    "    # Initialize a counter for number of words in a review\n",
    "    diff = []\n",
    "    # Loop over each word in the comment and, if it is in the model's vocabulary, \n",
    "    # add its cosine sim value to the list\n",
    "    for word in model_1_words:\n",
    "        if word in model_2_words: \n",
    "            dist_1 = (w2v_model_1['the'] - w2v_model_1[word])\n",
    "            \n",
    "            dist_2 = (w2v_model_2['the'] - w2v_model_2[word])\n",
    "            \n",
    "            diff.append(abs(dist_1 - dist_2))\n",
    "\n",
    "    # return the average of all cosine scores and the number of similar words\n",
    "    return (round(np.array(diff).mean(), 3), len(diff))"
   ]
  },
  {
   "cell_type": "code",
   "execution_count": 45,
   "metadata": {},
   "outputs": [],
   "source": [
    "def cosine_diff_dataframe(data, authors, target_author):\n",
    "    \n",
    "    # build a sekelton for the df with columns and a for for each author being compared\n",
    "    df = pd.DataFrame(columns = ['user_key', 'cosine_diff', 'words'], index = range(len(authors)))\n",
    "    # process the target author text and build the W2v Model\n",
    "    target_author_text = data.text.loc[data.user_key == target_author].map(process_text)\n",
    "    target_W2Vmodel = build_w2v(sentences=target_author_text)\n",
    "    \n",
    "    # iterating through each author\n",
    "    for i in range(len(authors)):\n",
    "        \n",
    "        # process the author's text and build the w2v model\n",
    "        author_text = data.text.loc[data.user_key == authors[i]].map(process_text)\n",
    "        W2Vmodel = build_w2v(sentences=author_text)\n",
    "        # calculate their avg cosine similarity and number of words\n",
    "        cosine_diff, words = get_w2v_cosine_similarity_diff(target_W2Vmodel, W2Vmodel)\n",
    "        # add the scores, words, and author name to the dataframe\n",
    "        df.iloc[i] = [authors[i], cosine_diff, words]\n",
    "        \n",
    "    return(df.sort_values(by='cosine_diff', axis=0).reset_index(drop=True))"
   ]
  },
  {
   "cell_type": "code",
   "execution_count": 46,
   "metadata": {},
   "outputs": [],
   "source": [
    "def cosine_same_user_diff_test(data, n_trials, num_features=300, sort_data=True):\n",
    "    \n",
    "    df = pd.DataFrame(index = range(10))\n",
    "    \n",
    "    df['percentage'] = np.linspace(1, .1, 10)\n",
    "    df['mean'] = 0\n",
    "    df['std'] = 0\n",
    "    \n",
    "    original_W2Vmodel = build_w2v(sentences=data)\n",
    "    \n",
    "    for t in range(n_trials):\n",
    "        df[f'trial_{t+1}'] = 0\n",
    "\n",
    "    for t in range(n_trials): \n",
    "            \n",
    "        for index, frac in enumerate(np.linspace(1, .1, 10)):\n",
    "            # gives the ability to test results with sorted and unsorted data\n",
    "            if sort_data:\n",
    "                trial_text = data.sample(frac=frac, replace=False).sort_index()\n",
    "            else:\n",
    "                trial_text = data.sample(frac=frac, replace=False)\n",
    "\n",
    "            trial_W2Vmodel = build_w2v(sentences=trial_text)\n",
    "\n",
    "            cosine, words = get_w2v_cosine_similarity_diff(original_W2Vmodel, trial_W2Vmodel)\n",
    "\n",
    "            df.iloc[index, t+3] = [cosine]\n",
    "    \n",
    "    end = df.shape[1] + 1\n",
    "    df['mean'] = df.iloc[:, 4:end].apply(lambda x: np.mean(x), axis = 1)\n",
    "    df['std'] = df.iloc[:, 4:end].apply(lambda x: np.std(x), axis = 1)\n",
    "        \n",
    "    return df"
   ]
  },
  {
   "cell_type": "markdown",
   "metadata": {},
   "source": [
    "---"
   ]
  },
  {
   "cell_type": "markdown",
   "metadata": {},
   "source": [
    "**Testing with Kaggle Data**"
   ]
  },
  {
   "cell_type": "code",
   "execution_count": 47,
   "metadata": {},
   "outputs": [],
   "source": [
    "kaggle_df = pd.read_csv('./datasets/kaggle_authors.csv')"
   ]
  },
  {
   "cell_type": "code",
   "execution_count": 48,
   "metadata": {},
   "outputs": [
    {
     "data": {
      "text/html": [
       "<div>\n",
       "<style scoped>\n",
       "    .dataframe tbody tr th:only-of-type {\n",
       "        vertical-align: middle;\n",
       "    }\n",
       "\n",
       "    .dataframe tbody tr th {\n",
       "        vertical-align: top;\n",
       "    }\n",
       "\n",
       "    .dataframe thead th {\n",
       "        text-align: right;\n",
       "    }\n",
       "</style>\n",
       "<table border=\"1\" class=\"dataframe\">\n",
       "  <thead>\n",
       "    <tr style=\"text-align: right;\">\n",
       "      <th></th>\n",
       "      <th>id</th>\n",
       "      <th>text</th>\n",
       "      <th>author</th>\n",
       "    </tr>\n",
       "  </thead>\n",
       "  <tbody>\n",
       "    <tr>\n",
       "      <th>0</th>\n",
       "      <td>id26305</td>\n",
       "      <td>This process, however, afforded me no means of...</td>\n",
       "      <td>EAP</td>\n",
       "    </tr>\n",
       "    <tr>\n",
       "      <th>1</th>\n",
       "      <td>id17569</td>\n",
       "      <td>It never once occurred to me that the fumbling...</td>\n",
       "      <td>HPL</td>\n",
       "    </tr>\n",
       "    <tr>\n",
       "      <th>2</th>\n",
       "      <td>id11008</td>\n",
       "      <td>In his left hand was a gold snuff box, from wh...</td>\n",
       "      <td>EAP</td>\n",
       "    </tr>\n",
       "    <tr>\n",
       "      <th>3</th>\n",
       "      <td>id27763</td>\n",
       "      <td>How lovely is spring As we looked from Windsor...</td>\n",
       "      <td>MWS</td>\n",
       "    </tr>\n",
       "    <tr>\n",
       "      <th>4</th>\n",
       "      <td>id12958</td>\n",
       "      <td>Finding nothing else, not even gold, the Super...</td>\n",
       "      <td>HPL</td>\n",
       "    </tr>\n",
       "  </tbody>\n",
       "</table>\n",
       "</div>"
      ],
      "text/plain": [
       "        id                                               text author\n",
       "0  id26305  This process, however, afforded me no means of...    EAP\n",
       "1  id17569  It never once occurred to me that the fumbling...    HPL\n",
       "2  id11008  In his left hand was a gold snuff box, from wh...    EAP\n",
       "3  id27763  How lovely is spring As we looked from Windsor...    MWS\n",
       "4  id12958  Finding nothing else, not even gold, the Super...    HPL"
      ]
     },
     "execution_count": 48,
     "metadata": {},
     "output_type": "execute_result"
    }
   ],
   "source": [
    "kaggle_df.head()"
   ]
  },
  {
   "cell_type": "code",
   "execution_count": 49,
   "metadata": {},
   "outputs": [],
   "source": [
    "kaggle_df['process_text'] = kaggle_df.text.map(process_text)"
   ]
  },
  {
   "cell_type": "code",
   "execution_count": 50,
   "metadata": {},
   "outputs": [
    {
     "data": {
      "text/plain": [
       "EAP    7900\n",
       "MWS    6044\n",
       "HPL    5635\n",
       "Name: author, dtype: int64"
      ]
     },
     "execution_count": 50,
     "metadata": {},
     "output_type": "execute_result"
    }
   ],
   "source": [
    "kaggle_df.author.value_counts()"
   ]
  },
  {
   "cell_type": "code",
   "execution_count": 51,
   "metadata": {},
   "outputs": [],
   "source": [
    "eap_corpus = kaggle_df.loc[kaggle_df.author == 'EAP']\n",
    "mws_corpus = kaggle_df.loc[kaggle_df.author == 'MWS']\n",
    "hpl_corpus = kaggle_df.loc[kaggle_df.author == 'HPL']"
   ]
  },
  {
   "cell_type": "code",
   "execution_count": 52,
   "metadata": {},
   "outputs": [
    {
     "name": "stdout",
     "output_type": "stream",
     "text": [
      "Number of EAP words: 202192\n",
      "Number of Unique EAP words: 15278\n",
      "\n",
      "Number of MWS words: 166555\n",
      "Number of Unique MWS words: 11529\n",
      "\n",
      "Number of HPL words: 157632\n",
      "Number of Unique HPL words: 14526\n"
     ]
    }
   ],
   "source": [
    "eap_words = [token for text in eap_corpus.process_text for token in text]\n",
    "mws_words = [token for text in mws_corpus.process_text for token in text]\n",
    "hpl_words = [token for text in hpl_corpus.process_text for token in text]\n",
    "\n",
    "print(f'Number of EAP words: {len(eap_words)}')\n",
    "print(f'Number of Unique EAP words: {len(set(eap_words))}')\n",
    "print()\n",
    "print(f'Number of MWS words: {len(mws_words)}')\n",
    "print(f'Number of Unique MWS words: {len(set(mws_words))}')\n",
    "print()\n",
    "print(f'Number of HPL words: {len(hpl_words)}')\n",
    "print(f'Number of Unique HPL words: {len(set(hpl_words))}')"
   ]
  },
  {
   "cell_type": "code",
   "execution_count": 53,
   "metadata": {},
   "outputs": [],
   "source": [
    "cos_diff_test_unsorted = cosine_same_user_diff_test(eap_corpus.process_text, \n",
    "                                           n_trials=10,\n",
    "                                           sort_data=False)"
   ]
  },
  {
   "cell_type": "code",
   "execution_count": 54,
   "metadata": {
    "scrolled": true
   },
   "outputs": [
    {
     "data": {
      "text/html": [
       "<div>\n",
       "<style scoped>\n",
       "    .dataframe tbody tr th:only-of-type {\n",
       "        vertical-align: middle;\n",
       "    }\n",
       "\n",
       "    .dataframe tbody tr th {\n",
       "        vertical-align: top;\n",
       "    }\n",
       "\n",
       "    .dataframe thead th {\n",
       "        text-align: right;\n",
       "    }\n",
       "</style>\n",
       "<table border=\"1\" class=\"dataframe\">\n",
       "  <thead>\n",
       "    <tr style=\"text-align: right;\">\n",
       "      <th></th>\n",
       "      <th>percentage</th>\n",
       "      <th>mean</th>\n",
       "      <th>std</th>\n",
       "      <th>trial_1</th>\n",
       "      <th>trial_2</th>\n",
       "      <th>trial_3</th>\n",
       "      <th>trial_4</th>\n",
       "      <th>trial_5</th>\n",
       "      <th>trial_6</th>\n",
       "      <th>trial_7</th>\n",
       "      <th>trial_8</th>\n",
       "      <th>trial_9</th>\n",
       "      <th>trial_10</th>\n",
       "    </tr>\n",
       "  </thead>\n",
       "  <tbody>\n",
       "    <tr>\n",
       "      <th>0</th>\n",
       "      <td>1.0</td>\n",
       "      <td>0.060778</td>\n",
       "      <td>0.002043</td>\n",
       "      <td>0.063</td>\n",
       "      <td>0.061</td>\n",
       "      <td>0.062</td>\n",
       "      <td>0.061</td>\n",
       "      <td>0.057</td>\n",
       "      <td>0.061</td>\n",
       "      <td>0.065</td>\n",
       "      <td>0.061</td>\n",
       "      <td>0.060</td>\n",
       "      <td>0.059</td>\n",
       "    </tr>\n",
       "    <tr>\n",
       "      <th>1</th>\n",
       "      <td>0.9</td>\n",
       "      <td>0.060667</td>\n",
       "      <td>0.003300</td>\n",
       "      <td>0.061</td>\n",
       "      <td>0.064</td>\n",
       "      <td>0.062</td>\n",
       "      <td>0.063</td>\n",
       "      <td>0.058</td>\n",
       "      <td>0.059</td>\n",
       "      <td>0.057</td>\n",
       "      <td>0.063</td>\n",
       "      <td>0.065</td>\n",
       "      <td>0.055</td>\n",
       "    </tr>\n",
       "    <tr>\n",
       "      <th>2</th>\n",
       "      <td>0.8</td>\n",
       "      <td>0.059778</td>\n",
       "      <td>0.001812</td>\n",
       "      <td>0.054</td>\n",
       "      <td>0.058</td>\n",
       "      <td>0.061</td>\n",
       "      <td>0.059</td>\n",
       "      <td>0.058</td>\n",
       "      <td>0.062</td>\n",
       "      <td>0.058</td>\n",
       "      <td>0.058</td>\n",
       "      <td>0.062</td>\n",
       "      <td>0.062</td>\n",
       "    </tr>\n",
       "    <tr>\n",
       "      <th>3</th>\n",
       "      <td>0.7</td>\n",
       "      <td>0.058556</td>\n",
       "      <td>0.002266</td>\n",
       "      <td>0.063</td>\n",
       "      <td>0.058</td>\n",
       "      <td>0.058</td>\n",
       "      <td>0.061</td>\n",
       "      <td>0.057</td>\n",
       "      <td>0.059</td>\n",
       "      <td>0.062</td>\n",
       "      <td>0.056</td>\n",
       "      <td>0.061</td>\n",
       "      <td>0.055</td>\n",
       "    </tr>\n",
       "    <tr>\n",
       "      <th>4</th>\n",
       "      <td>0.6</td>\n",
       "      <td>0.059889</td>\n",
       "      <td>0.002131</td>\n",
       "      <td>0.060</td>\n",
       "      <td>0.058</td>\n",
       "      <td>0.060</td>\n",
       "      <td>0.059</td>\n",
       "      <td>0.062</td>\n",
       "      <td>0.059</td>\n",
       "      <td>0.059</td>\n",
       "      <td>0.058</td>\n",
       "      <td>0.065</td>\n",
       "      <td>0.059</td>\n",
       "    </tr>\n",
       "    <tr>\n",
       "      <th>5</th>\n",
       "      <td>0.5</td>\n",
       "      <td>0.062222</td>\n",
       "      <td>0.001931</td>\n",
       "      <td>0.063</td>\n",
       "      <td>0.061</td>\n",
       "      <td>0.059</td>\n",
       "      <td>0.063</td>\n",
       "      <td>0.066</td>\n",
       "      <td>0.061</td>\n",
       "      <td>0.061</td>\n",
       "      <td>0.062</td>\n",
       "      <td>0.063</td>\n",
       "      <td>0.064</td>\n",
       "    </tr>\n",
       "    <tr>\n",
       "      <th>6</th>\n",
       "      <td>0.4</td>\n",
       "      <td>0.065222</td>\n",
       "      <td>0.001474</td>\n",
       "      <td>0.062</td>\n",
       "      <td>0.065</td>\n",
       "      <td>0.067</td>\n",
       "      <td>0.065</td>\n",
       "      <td>0.063</td>\n",
       "      <td>0.064</td>\n",
       "      <td>0.066</td>\n",
       "      <td>0.068</td>\n",
       "      <td>0.064</td>\n",
       "      <td>0.065</td>\n",
       "    </tr>\n",
       "    <tr>\n",
       "      <th>7</th>\n",
       "      <td>0.3</td>\n",
       "      <td>0.069556</td>\n",
       "      <td>0.000956</td>\n",
       "      <td>0.069</td>\n",
       "      <td>0.068</td>\n",
       "      <td>0.069</td>\n",
       "      <td>0.070</td>\n",
       "      <td>0.070</td>\n",
       "      <td>0.071</td>\n",
       "      <td>0.070</td>\n",
       "      <td>0.068</td>\n",
       "      <td>0.070</td>\n",
       "      <td>0.070</td>\n",
       "    </tr>\n",
       "    <tr>\n",
       "      <th>8</th>\n",
       "      <td>0.2</td>\n",
       "      <td>0.073444</td>\n",
       "      <td>0.000831</td>\n",
       "      <td>0.073</td>\n",
       "      <td>0.074</td>\n",
       "      <td>0.074</td>\n",
       "      <td>0.075</td>\n",
       "      <td>0.073</td>\n",
       "      <td>0.073</td>\n",
       "      <td>0.074</td>\n",
       "      <td>0.072</td>\n",
       "      <td>0.073</td>\n",
       "      <td>0.073</td>\n",
       "    </tr>\n",
       "    <tr>\n",
       "      <th>9</th>\n",
       "      <td>0.1</td>\n",
       "      <td>0.078111</td>\n",
       "      <td>0.000314</td>\n",
       "      <td>0.078</td>\n",
       "      <td>0.078</td>\n",
       "      <td>0.079</td>\n",
       "      <td>0.078</td>\n",
       "      <td>0.078</td>\n",
       "      <td>0.078</td>\n",
       "      <td>0.078</td>\n",
       "      <td>0.078</td>\n",
       "      <td>0.078</td>\n",
       "      <td>0.078</td>\n",
       "    </tr>\n",
       "  </tbody>\n",
       "</table>\n",
       "</div>"
      ],
      "text/plain": [
       "   percentage      mean       std  trial_1  trial_2  trial_3  trial_4  \\\n",
       "0         1.0  0.060778  0.002043    0.063    0.061    0.062    0.061   \n",
       "1         0.9  0.060667  0.003300    0.061    0.064    0.062    0.063   \n",
       "2         0.8  0.059778  0.001812    0.054    0.058    0.061    0.059   \n",
       "3         0.7  0.058556  0.002266    0.063    0.058    0.058    0.061   \n",
       "4         0.6  0.059889  0.002131    0.060    0.058    0.060    0.059   \n",
       "5         0.5  0.062222  0.001931    0.063    0.061    0.059    0.063   \n",
       "6         0.4  0.065222  0.001474    0.062    0.065    0.067    0.065   \n",
       "7         0.3  0.069556  0.000956    0.069    0.068    0.069    0.070   \n",
       "8         0.2  0.073444  0.000831    0.073    0.074    0.074    0.075   \n",
       "9         0.1  0.078111  0.000314    0.078    0.078    0.079    0.078   \n",
       "\n",
       "   trial_5  trial_6  trial_7  trial_8  trial_9  trial_10  \n",
       "0    0.057    0.061    0.065    0.061    0.060     0.059  \n",
       "1    0.058    0.059    0.057    0.063    0.065     0.055  \n",
       "2    0.058    0.062    0.058    0.058    0.062     0.062  \n",
       "3    0.057    0.059    0.062    0.056    0.061     0.055  \n",
       "4    0.062    0.059    0.059    0.058    0.065     0.059  \n",
       "5    0.066    0.061    0.061    0.062    0.063     0.064  \n",
       "6    0.063    0.064    0.066    0.068    0.064     0.065  \n",
       "7    0.070    0.071    0.070    0.068    0.070     0.070  \n",
       "8    0.073    0.073    0.074    0.072    0.073     0.073  \n",
       "9    0.078    0.078    0.078    0.078    0.078     0.078  "
      ]
     },
     "execution_count": 54,
     "metadata": {},
     "output_type": "execute_result"
    }
   ],
   "source": [
    "cos_diff_test_unsorted"
   ]
  },
  {
   "cell_type": "code",
   "execution_count": 55,
   "metadata": {},
   "outputs": [
    {
     "data": {
      "image/png": "[encoded data removed]",
      "text/plain": [
       "<Figure size 576x432 with 1 Axes>"
      ]
     },
     "metadata": {},
     "output_type": "display_data"
    }
   ],
   "source": [
    "plt.figure(figsize=(8,6))\n",
    "sns.regplot(cos_diff_test_unsorted.percentage, \n",
    "            cos_diff_test_unsorted['mean'], \n",
    "            order=3, ci=None, truncate=True)\n",
    "plt.title(\"Cosine Difference Curve with Data Removed (Unsorted)\")\n",
    "plt.ylabel('Cosine Similarity Difference')\n",
    "plt.xlabel('Percent of Original Corpus in Comparison Set')\n",
    "plt.xticks([.2, .4, .6, .8, 1])\n",
    "plt.yticks([.05, .06, .07, .08]);"
   ]
  },
  {
   "cell_type": "code",
   "execution_count": 56,
   "metadata": {},
   "outputs": [],
   "source": [
    "cos_diff_test_sorted = cosine_same_user_diff_test(eap_corpus.process_text, \n",
    "                                           n_trials=10)"
   ]
  },
  {
   "cell_type": "code",
   "execution_count": 57,
   "metadata": {
    "scrolled": false
   },
   "outputs": [
    {
     "data": {
      "text/html": [
       "<div>\n",
       "<style scoped>\n",
       "    .dataframe tbody tr th:only-of-type {\n",
       "        vertical-align: middle;\n",
       "    }\n",
       "\n",
       "    .dataframe tbody tr th {\n",
       "        vertical-align: top;\n",
       "    }\n",
       "\n",
       "    .dataframe thead th {\n",
       "        text-align: right;\n",
       "    }\n",
       "</style>\n",
       "<table border=\"1\" class=\"dataframe\">\n",
       "  <thead>\n",
       "    <tr style=\"text-align: right;\">\n",
       "      <th></th>\n",
       "      <th>percentage</th>\n",
       "      <th>mean</th>\n",
       "      <th>std</th>\n",
       "      <th>trial_1</th>\n",
       "      <th>trial_2</th>\n",
       "      <th>trial_3</th>\n",
       "      <th>trial_4</th>\n",
       "      <th>trial_5</th>\n",
       "      <th>trial_6</th>\n",
       "      <th>trial_7</th>\n",
       "      <th>trial_8</th>\n",
       "      <th>trial_9</th>\n",
       "      <th>trial_10</th>\n",
       "    </tr>\n",
       "  </thead>\n",
       "  <tbody>\n",
       "    <tr>\n",
       "      <th>0</th>\n",
       "      <td>1.0</td>\n",
       "      <td>0.038222</td>\n",
       "      <td>0.007997</td>\n",
       "      <td>0.046</td>\n",
       "      <td>0.048</td>\n",
       "      <td>0.033</td>\n",
       "      <td>0.028</td>\n",
       "      <td>0.048</td>\n",
       "      <td>0.040</td>\n",
       "      <td>0.032</td>\n",
       "      <td>0.047</td>\n",
       "      <td>0.027</td>\n",
       "      <td>0.041</td>\n",
       "    </tr>\n",
       "    <tr>\n",
       "      <th>1</th>\n",
       "      <td>0.9</td>\n",
       "      <td>0.060000</td>\n",
       "      <td>0.003367</td>\n",
       "      <td>0.063</td>\n",
       "      <td>0.056</td>\n",
       "      <td>0.058</td>\n",
       "      <td>0.059</td>\n",
       "      <td>0.065</td>\n",
       "      <td>0.065</td>\n",
       "      <td>0.061</td>\n",
       "      <td>0.059</td>\n",
       "      <td>0.055</td>\n",
       "      <td>0.062</td>\n",
       "    </tr>\n",
       "    <tr>\n",
       "      <th>2</th>\n",
       "      <td>0.8</td>\n",
       "      <td>0.062222</td>\n",
       "      <td>0.005266</td>\n",
       "      <td>0.062</td>\n",
       "      <td>0.068</td>\n",
       "      <td>0.064</td>\n",
       "      <td>0.057</td>\n",
       "      <td>0.067</td>\n",
       "      <td>0.055</td>\n",
       "      <td>0.068</td>\n",
       "      <td>0.057</td>\n",
       "      <td>0.067</td>\n",
       "      <td>0.057</td>\n",
       "    </tr>\n",
       "    <tr>\n",
       "      <th>3</th>\n",
       "      <td>0.7</td>\n",
       "      <td>0.063333</td>\n",
       "      <td>0.002539</td>\n",
       "      <td>0.061</td>\n",
       "      <td>0.063</td>\n",
       "      <td>0.060</td>\n",
       "      <td>0.062</td>\n",
       "      <td>0.064</td>\n",
       "      <td>0.062</td>\n",
       "      <td>0.066</td>\n",
       "      <td>0.060</td>\n",
       "      <td>0.065</td>\n",
       "      <td>0.068</td>\n",
       "    </tr>\n",
       "    <tr>\n",
       "      <th>4</th>\n",
       "      <td>0.6</td>\n",
       "      <td>0.060889</td>\n",
       "      <td>0.001969</td>\n",
       "      <td>0.063</td>\n",
       "      <td>0.057</td>\n",
       "      <td>0.063</td>\n",
       "      <td>0.063</td>\n",
       "      <td>0.063</td>\n",
       "      <td>0.059</td>\n",
       "      <td>0.061</td>\n",
       "      <td>0.060</td>\n",
       "      <td>0.062</td>\n",
       "      <td>0.060</td>\n",
       "    </tr>\n",
       "    <tr>\n",
       "      <th>5</th>\n",
       "      <td>0.5</td>\n",
       "      <td>0.064000</td>\n",
       "      <td>0.002944</td>\n",
       "      <td>0.069</td>\n",
       "      <td>0.064</td>\n",
       "      <td>0.062</td>\n",
       "      <td>0.066</td>\n",
       "      <td>0.061</td>\n",
       "      <td>0.065</td>\n",
       "      <td>0.069</td>\n",
       "      <td>0.063</td>\n",
       "      <td>0.067</td>\n",
       "      <td>0.059</td>\n",
       "    </tr>\n",
       "    <tr>\n",
       "      <th>6</th>\n",
       "      <td>0.4</td>\n",
       "      <td>0.067000</td>\n",
       "      <td>0.001563</td>\n",
       "      <td>0.064</td>\n",
       "      <td>0.066</td>\n",
       "      <td>0.068</td>\n",
       "      <td>0.068</td>\n",
       "      <td>0.067</td>\n",
       "      <td>0.064</td>\n",
       "      <td>0.068</td>\n",
       "      <td>0.069</td>\n",
       "      <td>0.068</td>\n",
       "      <td>0.065</td>\n",
       "    </tr>\n",
       "    <tr>\n",
       "      <th>7</th>\n",
       "      <td>0.3</td>\n",
       "      <td>0.069667</td>\n",
       "      <td>0.001764</td>\n",
       "      <td>0.066</td>\n",
       "      <td>0.070</td>\n",
       "      <td>0.071</td>\n",
       "      <td>0.070</td>\n",
       "      <td>0.071</td>\n",
       "      <td>0.071</td>\n",
       "      <td>0.070</td>\n",
       "      <td>0.071</td>\n",
       "      <td>0.066</td>\n",
       "      <td>0.067</td>\n",
       "    </tr>\n",
       "    <tr>\n",
       "      <th>8</th>\n",
       "      <td>0.2</td>\n",
       "      <td>0.072778</td>\n",
       "      <td>0.001133</td>\n",
       "      <td>0.073</td>\n",
       "      <td>0.073</td>\n",
       "      <td>0.072</td>\n",
       "      <td>0.073</td>\n",
       "      <td>0.074</td>\n",
       "      <td>0.072</td>\n",
       "      <td>0.073</td>\n",
       "      <td>0.075</td>\n",
       "      <td>0.072</td>\n",
       "      <td>0.071</td>\n",
       "    </tr>\n",
       "    <tr>\n",
       "      <th>9</th>\n",
       "      <td>0.1</td>\n",
       "      <td>0.077111</td>\n",
       "      <td>0.000567</td>\n",
       "      <td>0.077</td>\n",
       "      <td>0.077</td>\n",
       "      <td>0.077</td>\n",
       "      <td>0.078</td>\n",
       "      <td>0.077</td>\n",
       "      <td>0.076</td>\n",
       "      <td>0.078</td>\n",
       "      <td>0.077</td>\n",
       "      <td>0.077</td>\n",
       "      <td>0.077</td>\n",
       "    </tr>\n",
       "  </tbody>\n",
       "</table>\n",
       "</div>"
      ],
      "text/plain": [
       "   percentage      mean       std  trial_1  trial_2  trial_3  trial_4  \\\n",
       "0         1.0  0.038222  0.007997    0.046    0.048    0.033    0.028   \n",
       "1         0.9  0.060000  0.003367    0.063    0.056    0.058    0.059   \n",
       "2         0.8  0.062222  0.005266    0.062    0.068    0.064    0.057   \n",
       "3         0.7  0.063333  0.002539    0.061    0.063    0.060    0.062   \n",
       "4         0.6  0.060889  0.001969    0.063    0.057    0.063    0.063   \n",
       "5         0.5  0.064000  0.002944    0.069    0.064    0.062    0.066   \n",
       "6         0.4  0.067000  0.001563    0.064    0.066    0.068    0.068   \n",
       "7         0.3  0.069667  0.001764    0.066    0.070    0.071    0.070   \n",
       "8         0.2  0.072778  0.001133    0.073    0.073    0.072    0.073   \n",
       "9         0.1  0.077111  0.000567    0.077    0.077    0.077    0.078   \n",
       "\n",
       "   trial_5  trial_6  trial_7  trial_8  trial_9  trial_10  \n",
       "0    0.048    0.040    0.032    0.047    0.027     0.041  \n",
       "1    0.065    0.065    0.061    0.059    0.055     0.062  \n",
       "2    0.067    0.055    0.068    0.057    0.067     0.057  \n",
       "3    0.064    0.062    0.066    0.060    0.065     0.068  \n",
       "4    0.063    0.059    0.061    0.060    0.062     0.060  \n",
       "5    0.061    0.065    0.069    0.063    0.067     0.059  \n",
       "6    0.067    0.064    0.068    0.069    0.068     0.065  \n",
       "7    0.071    0.071    0.070    0.071    0.066     0.067  \n",
       "8    0.074    0.072    0.073    0.075    0.072     0.071  \n",
       "9    0.077    0.076    0.078    0.077    0.077     0.077  "
      ]
     },
     "execution_count": 57,
     "metadata": {},
     "output_type": "execute_result"
    }
   ],
   "source": [
    "cos_diff_test_sorted"
   ]
  },
  {
   "cell_type": "code",
   "execution_count": 58,
   "metadata": {},
   "outputs": [
    {
     "data": {
      "image/png": "[encoded data removed]",
      "text/plain": [
       "<Figure size 576x432 with 1 Axes>"
      ]
     },
     "metadata": {},
     "output_type": "display_data"
    }
   ],
   "source": [
    "plt.figure(figsize=(8,6))\n",
    "sns.regplot(cos_diff_test_sorted.percentage, \n",
    "            cos_diff_test_sorted['mean'], \n",
    "            order=3, ci=None, truncate=True)\n",
    "plt.title(\"Cosine Difference Curve with Data Removed (Sorted)\")\n",
    "plt.ylabel('Cosine Similarity Difference')\n",
    "plt.xlabel('Percent of Original Corpus in Comparison Set')\n",
    "plt.xticks([.2, .4, .6, .8, 1])\n",
    "plt.yticks([.05, .06, .07, .08]);"
   ]
  },
  {
   "cell_type": "markdown",
   "metadata": {},
   "source": [
    "**Order matters even when accounting for coordinate system discripencies**"
   ]
  },
  {
   "cell_type": "code",
   "execution_count": 59,
   "metadata": {},
   "outputs": [],
   "source": [
    "# training corpuses\n",
    "eap_corpus_train = eap_corpus.iloc[:int(len(eap_corpus) // 1.25), :]\n",
    "mws_corpus_train = mws_corpus.iloc[:int(len(mws_corpus) // 1.25), :]\n",
    "hpl_corpus_train = hpl_corpus.iloc[:int(len(hpl_corpus) // 1.25), :]\n",
    "\n",
    "# testing corpuses\n",
    "eap_corpus_test = eap_corpus.iloc[int(len(eap_corpus) // 1.25):, :]\n",
    "mws_corpus_test = mws_corpus.iloc[int(len(mws_corpus) // 1.25):, :]\n",
    "hpl_corpus_test = hpl_corpus.iloc[int(len(hpl_corpus) // 1.25):, :]"
   ]
  },
  {
   "cell_type": "code",
   "execution_count": 60,
   "metadata": {},
   "outputs": [
    {
     "name": "stdout",
     "output_type": "stream",
     "text": [
      "CPU times: user 28.2 s, sys: 102 ms, total: 28.3 s\n",
      "Wall time: 11 s\n"
     ]
    }
   ],
   "source": [
    "%%time\n",
    "\n",
    "# w2v models\n",
    "eap_w2v_train = build_w2v(eap_corpus_train.process_text)\n",
    "mws_w2v_train = build_w2v(mws_corpus_train.process_text)\n",
    "hpl_w2v_train = build_w2v(hpl_corpus_train.process_text)\n",
    "\n",
    "eap_w2v_test = build_w2v(eap_corpus_test.process_text)\n",
    "mws_w2v_test = build_w2v(mws_corpus_test.process_text)\n",
    "hpl_w2v_test = build_w2v(hpl_corpus_test.process_text)"
   ]
  },
  {
   "cell_type": "markdown",
   "metadata": {},
   "source": [
    "---"
   ]
  },
  {
   "cell_type": "markdown",
   "metadata": {},
   "source": [
    "Testing cosine difference on spooky author data."
   ]
  },
  {
   "cell_type": "code",
   "execution_count": 72,
   "metadata": {},
   "outputs": [
    {
     "data": {
      "text/plain": [
       "(0.065, 1751)"
      ]
     },
     "execution_count": 72,
     "metadata": {},
     "output_type": "execute_result"
    }
   ],
   "source": [
    "get_w2v_cosine_similarity_diff(eap_w2v_train, eap_w2v_test)"
   ]
  },
  {
   "cell_type": "code",
   "execution_count": 62,
   "metadata": {},
   "outputs": [
    {
     "data": {
      "text/plain": [
       "(0.065, 1322)"
      ]
     },
     "execution_count": 62,
     "metadata": {},
     "output_type": "execute_result"
    }
   ],
   "source": [
    "get_w2v_cosine_similarity_diff(eap_w2v_train, mws_w2v_test)"
   ]
  },
  {
   "cell_type": "code",
   "execution_count": 63,
   "metadata": {},
   "outputs": [
    {
     "data": {
      "text/plain": [
       "(0.066, 1248)"
      ]
     },
     "execution_count": 63,
     "metadata": {},
     "output_type": "execute_result"
    }
   ],
   "source": [
    "get_w2v_cosine_similarity_diff(eap_w2v_train, hpl_w2v_test)"
   ]
  },
  {
   "cell_type": "code",
   "execution_count": 64,
   "metadata": {},
   "outputs": [
    {
     "data": {
      "text/plain": [
       "(0.061, 2772)"
      ]
     },
     "execution_count": 64,
     "metadata": {},
     "output_type": "execute_result"
    }
   ],
   "source": [
    "get_w2v_cosine_similarity_diff(eap_w2v_train, mws_w2v_train)"
   ]
  },
  {
   "cell_type": "code",
   "execution_count": 65,
   "metadata": {},
   "outputs": [
    {
     "data": {
      "text/plain": [
       "(0.063, 2804)"
      ]
     },
     "execution_count": 65,
     "metadata": {},
     "output_type": "execute_result"
    }
   ],
   "source": [
    "get_w2v_cosine_similarity_diff(eap_w2v_train, hpl_w2v_train)"
   ]
  },
  {
   "cell_type": "code",
   "execution_count": 66,
   "metadata": {},
   "outputs": [
    {
     "data": {
      "text/plain": [
       "(0.0, 5529)"
      ]
     },
     "execution_count": 66,
     "metadata": {},
     "output_type": "execute_result"
    }
   ],
   "source": [
    "get_w2v_cosine_similarity_diff(eap_w2v_train, eap_w2v_train)"
   ]
  },
  {
   "cell_type": "markdown",
   "metadata": {},
   "source": [
    "All authors converge to a similar score and the EPA test group is unable to be differentiated from the other authors."
   ]
  }
 ],
 "metadata": {
  "kernelspec": {
   "display_name": "Python 3",
   "language": "python",
   "name": "python3"
  },
  "language_info": {
   "codemirror_mode": {
    "name": "ipython",
    "version": 3
   },
   "file_extension": ".py",
   "mimetype": "text/x-python",
   "name": "python",
   "nbconvert_exporter": "python",
   "pygments_lexer": "ipython3",
   "version": "3.6.7"
  }
 },
 "nbformat": 4,
 "nbformat_minor": 2
}
